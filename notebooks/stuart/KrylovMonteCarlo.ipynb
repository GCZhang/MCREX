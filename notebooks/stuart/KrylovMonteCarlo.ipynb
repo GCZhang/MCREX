{
 "metadata": {
  "name": "",
  "signature": "sha256:9d12435ba607270f353c869c8ce433fef4f5a06baf3772c6f47c4f377e7b7111"
 },
 "nbformat": 3,
 "nbformat_minor": 0,
 "worksheets": [
  {
   "cells": [
    {
     "cell_type": "heading",
     "level": 1,
     "metadata": {},
     "source": [
      "Krylov Monte Carlo"
     ]
    },
    {
     "cell_type": "code",
     "collapsed": false,
     "input": [
      "%load_ext autoreload"
     ],
     "language": "python",
     "metadata": {},
     "outputs": [
      {
       "output_type": "stream",
       "stream": "stdout",
       "text": [
        "The autoreload extension is already loaded. To reload it, use:\n",
        "  %reload_ext autoreload\n"
       ]
      }
     ],
     "prompt_number": 26
    },
    {
     "cell_type": "code",
     "collapsed": false,
     "input": [
      "%autoreload 2"
     ],
     "language": "python",
     "metadata": {},
     "outputs": [],
     "prompt_number": 27
    },
    {
     "cell_type": "code",
     "collapsed": false,
     "input": [
      "import numpy\n",
      "\n",
      "grid_size = 50\n",
      "h = 1.0"
     ],
     "language": "python",
     "metadata": {},
     "outputs": [],
     "prompt_number": 28
    },
    {
     "cell_type": "markdown",
     "metadata": {},
     "source": [
      "Build the linear problem"
     ]
    },
    {
     "cell_type": "code",
     "collapsed": false,
     "input": [
      "import array_tools\n",
      "import mc_data\n",
      "\n",
      "D = 1.0\n",
      "\n",
      "A = array_tools.makePoissonOperator( grid_size, h, D )\n",
      "diag = array_tools.getInvDiag( A )\n",
      "A = array_tools.leftScaleMatrix( A, diag )\n",
      "\n",
      "f_lo = 20#-1\n",
      "f_hi = 25#grid_size+1\n",
      "f = numpy.zeros( grid_size )\n",
      "for i in xrange(grid_size):\n",
      "    if (i > f_lo) and (i < f_hi):\n",
      "        f[i] = f[i] + 1.0\n",
      "f = array_tools.scaleVector( f, diag )\n",
      "\n",
      "H = mc_data.makeIterationMatrix( A )\n",
      "eval_H, evec_H = numpy.linalg.eig(H)\n",
      "spec_rad_H = max(sorted(abs(i) for i in eval_H))\n",
      "print \"rho(H):\", spec_rad_H"
     ],
     "language": "python",
     "metadata": {},
     "outputs": [
      {
       "output_type": "stream",
       "stream": "stdout",
       "text": [
        "rho(H): 0.665361662323\n"
       ]
      }
     ],
     "prompt_number": 29
    },
    {
     "cell_type": "markdown",
     "metadata": {},
     "source": [
      "Compute the reference solution"
     ]
    },
    {
     "cell_type": "code",
     "collapsed": false,
     "input": [
      "ref = numpy.linalg.solve(A,f)"
     ],
     "language": "python",
     "metadata": {},
     "outputs": [],
     "prompt_number": 30
    },
    {
     "cell_type": "heading",
     "level": 2,
     "metadata": {},
     "source": [
      "Krylov Monte Carlo"
     ]
    },
    {
     "cell_type": "code",
     "collapsed": false,
     "input": [
      "import time\n",
      "import batch_tools\n",
      "import mc_tools\n",
      "\n",
      "start = time.time()\n",
      "\n",
      "tol = 1.0e-8\n",
      "max_iter = 100\n",
      "np = 1000\n",
      "subspace_size = 10\n",
      "\n",
      "x = numpy.zeros(grid_size)\n",
      "r = array_tools.computeResidual( A, x, f )\n",
      "r_norm = numpy.linalg.norm(r,2)\n",
      "f_norm = numpy.linalg.norm(f,2)\n",
      "\n",
      "print \"||r_0||_2/||f||_2\", r_norm/f_norm\n",
      "\n",
      "iter = 0\n",
      "r_iter = []\n",
      "r_iter.append(r_norm/f_norm)\n",
      "while (iter < max_iter) and ( r_norm/f_norm > tol ):\n",
      "    \n",
      "    # Compute the Krylov subspace with Monte Carlo\n",
      "    subspace = mc_tools.monteCarloMatrixPolynomial(A,r,np,subspace_size)   \n",
      "\n",
      "    # Apply the Galerkin condition to compute the basis coefficients\n",
      "    # and extract the correction from the Krylov subspace\n",
      "    delta = batch_tools.computeConstrainedLeastSquares(A,subspace,f,x)\n",
      "\n",
      "    # Apply the correction\n",
      "    x = array_tools.updateVector( x, delta )\n",
      "\n",
      "    # Compute the resulting residual\n",
      "    r = array_tools.computeResidual( A, x, f )\n",
      "    r_norm = numpy.linalg.norm(r,2)\n",
      "    f_norm = numpy.linalg.norm(f,2)\n",
      "    r_iter.append(r_norm/f_norm)\n",
      "    iter = iter+1\n",
      "    print \"Iteration:\", iter, \"||r||_2/||f||_2\", r_norm / f_norm\n",
      "\n",
      "end = time.time()\n",
      "krylov_time = end - start\n",
      "print \"Total time:\", krylov_time"
     ],
     "language": "python",
     "metadata": {},
     "outputs": [
      {
       "output_type": "stream",
       "stream": "stdout",
       "text": [
        "||r_0||_2/||f||_2 1.0\n",
        "Iteration:"
       ]
      },
      {
       "output_type": "stream",
       "stream": "stdout",
       "text": [
        " 1 ||r||_2/||f||_2 0.257942852907\n",
        "Iteration:"
       ]
      },
      {
       "output_type": "stream",
       "stream": "stdout",
       "text": [
        " 2 ||r||_2/||f||_2 0.123863551696\n",
        "Iteration:"
       ]
      },
      {
       "output_type": "stream",
       "stream": "stdout",
       "text": [
        " 3 ||r||_2/||f||_2 0.0624764312538\n",
        "Iteration:"
       ]
      },
      {
       "output_type": "stream",
       "stream": "stdout",
       "text": [
        " 4 ||r||_2/||f||_2 0.0352863261788\n",
        "Iteration:"
       ]
      },
      {
       "output_type": "stream",
       "stream": "stdout",
       "text": [
        " 5 ||r||_2/||f||_2 0.017698596231\n",
        "Iteration:"
       ]
      },
      {
       "output_type": "stream",
       "stream": "stdout",
       "text": [
        " 6 ||r||_2/||f||_2 0.0108303044784\n",
        "Iteration:"
       ]
      },
      {
       "output_type": "stream",
       "stream": "stdout",
       "text": [
        " 7 ||r||_2/||f||_2 0.00746958635677\n",
        "Iteration:"
       ]
      },
      {
       "output_type": "stream",
       "stream": "stdout",
       "text": [
        " 8 ||r||_2/||f||_2 0.0045433706604\n",
        "Iteration:"
       ]
      },
      {
       "output_type": "stream",
       "stream": "stdout",
       "text": [
        " 9 ||r||_2/||f||_2 0.00271120240925\n",
        "Iteration:"
       ]
      },
      {
       "output_type": "stream",
       "stream": "stdout",
       "text": [
        " 10 ||r||_2/||f||_2 0.001728896907\n",
        "Iteration:"
       ]
      },
      {
       "output_type": "stream",
       "stream": "stdout",
       "text": [
        " 11 ||r||_2/||f||_2 0.00126655366216\n",
        "Iteration:"
       ]
      },
      {
       "output_type": "stream",
       "stream": "stdout",
       "text": [
        " 12 ||r||_2/||f||_2 0.00078854966404\n",
        "Iteration:"
       ]
      },
      {
       "output_type": "stream",
       "stream": "stdout",
       "text": [
        " 13 ||r||_2/||f||_2 0.000476031396701\n",
        "Iteration:"
       ]
      },
      {
       "output_type": "stream",
       "stream": "stdout",
       "text": [
        " 14 ||r||_2/||f||_2 0.000327018540465\n",
        "Iteration:"
       ]
      },
      {
       "output_type": "stream",
       "stream": "stdout",
       "text": [
        " 15 ||r||_2/||f||_2 0.000222508859339\n",
        "Iteration:"
       ]
      },
      {
       "output_type": "stream",
       "stream": "stdout",
       "text": [
        " 16 ||r||_2/||f||_2 0.000147459784126\n",
        "Iteration:"
       ]
      },
      {
       "output_type": "stream",
       "stream": "stdout",
       "text": [
        " 17 ||r||_2/||f||_2 0.000101304802869\n",
        "Iteration:"
       ]
      },
      {
       "output_type": "stream",
       "stream": "stdout",
       "text": [
        " 18 ||r||_2/||f||_2 6.83609391178e-05\n",
        "Iteration:"
       ]
      },
      {
       "output_type": "stream",
       "stream": "stdout",
       "text": [
        " 19 ||r||_2/||f||_2 4.01163853319e-05\n",
        "Iteration:"
       ]
      },
      {
       "output_type": "stream",
       "stream": "stdout",
       "text": [
        " 20 ||r||_2/||f||_2 2.6423131515e-05\n",
        "Iteration:"
       ]
      },
      {
       "output_type": "stream",
       "stream": "stdout",
       "text": [
        " 21 ||r||_2/||f||_2 1.89871158193e-05\n",
        "Iteration:"
       ]
      },
      {
       "output_type": "stream",
       "stream": "stdout",
       "text": [
        " 22 ||r||_2/||f||_2 1.31929413664e-05\n",
        "Iteration:"
       ]
      },
      {
       "output_type": "stream",
       "stream": "stdout",
       "text": [
        " 23 ||r||_2/||f||_2 9.24692236465e-06\n",
        "Iteration:"
       ]
      },
      {
       "output_type": "stream",
       "stream": "stdout",
       "text": [
        " 24 ||r||_2/||f||_2 6.42153248662e-06\n",
        "Iteration:"
       ]
      },
      {
       "output_type": "stream",
       "stream": "stdout",
       "text": [
        " 25 ||r||_2/||f||_2 4.17726777511e-06\n",
        "Iteration:"
       ]
      },
      {
       "output_type": "stream",
       "stream": "stdout",
       "text": [
        " 26 ||r||_2/||f||_2 2.93840147955e-06\n",
        "Iteration:"
       ]
      },
      {
       "output_type": "stream",
       "stream": "stdout",
       "text": [
        " 27 ||r||_2/||f||_2 1.87274990773e-06\n",
        "Iteration:"
       ]
      },
      {
       "output_type": "stream",
       "stream": "stdout",
       "text": [
        " 28 ||r||_2/||f||_2 1.15712013708e-06\n",
        "Iteration:"
       ]
      },
      {
       "output_type": "stream",
       "stream": "stdout",
       "text": [
        " 29 ||r||_2/||f||_2 7.04876012762e-07\n",
        "Iteration:"
       ]
      },
      {
       "output_type": "stream",
       "stream": "stdout",
       "text": [
        " 30 ||r||_2/||f||_2 4.6561819644e-07\n",
        "Iteration:"
       ]
      },
      {
       "output_type": "stream",
       "stream": "stdout",
       "text": [
        " 31 ||r||_2/||f||_2 3.39812308508e-07\n",
        "Iteration:"
       ]
      },
      {
       "output_type": "stream",
       "stream": "stdout",
       "text": [
        " 32 ||r||_2/||f||_2 2.18402575293e-07\n",
        "Iteration:"
       ]
      },
      {
       "output_type": "stream",
       "stream": "stdout",
       "text": [
        " 33 ||r||_2/||f||_2 1.34503511299e-07\n",
        "Iteration:"
       ]
      },
      {
       "output_type": "stream",
       "stream": "stdout",
       "text": [
        " 34 ||r||_2/||f||_2 7.42327210838e-08\n",
        "Iteration:"
       ]
      },
      {
       "output_type": "stream",
       "stream": "stdout",
       "text": [
        " 35 ||r||_2/||f||_2 4.66147329678e-08\n",
        "Iteration:"
       ]
      },
      {
       "output_type": "stream",
       "stream": "stdout",
       "text": [
        " 36 ||r||_2/||f||_2 2.95159738315e-08\n",
        "Iteration:"
       ]
      },
      {
       "output_type": "stream",
       "stream": "stdout",
       "text": [
        " 37 ||r||_2/||f||_2 2.03937917741e-08\n",
        "Iteration:"
       ]
      },
      {
       "output_type": "stream",
       "stream": "stdout",
       "text": [
        " 38 ||r||_2/||f||_2 1.37714562348e-08\n",
        "Iteration:"
       ]
      },
      {
       "output_type": "stream",
       "stream": "stdout",
       "text": [
        " 39 ||r||_2/||f||_2 9.51474867785e-09\n",
        "Total time: 38.6896350384\n"
       ]
      }
     ],
     "prompt_number": 31
    },
    {
     "cell_type": "heading",
     "level": 2,
     "metadata": {},
     "source": [
      "Analysis"
     ]
    },
    {
     "cell_type": "code",
     "collapsed": false,
     "input": [
      "%matplotlib inline\n",
      "import matplotlib.pyplot as plt\n",
      "from pylab import *\n",
      "\n",
      "plot_grid = numpy.linspace(0,grid_size,grid_size)\n",
      "figure(figsize=(10,8), dpi=100)\n",
      "plot(plot_grid,ref,label=\"Ref\")\n",
      "plot(plot_grid,x,label=\"KMC\")\n",
      "title(\"Solution\")\n",
      "legend()\n",
      "show() "
     ],
     "language": "python",
     "metadata": {},
     "outputs": [
      {
       "metadata": {},
       "output_type": "display_data",
       "png": "[encoded data removed]",
       "text": [
        "<matplotlib.figure.Figure at 0x10c0660d0>"
       ]
      }
     ],
     "prompt_number": 32
    },
    {
     "cell_type": "code",
     "collapsed": false,
     "input": [
      "conv_grid = numpy.linspace(0,iter+1,iter+1)\n",
      "fig = figure(figsize=(10,8), dpi=100)\n",
      "plot(conv_grid,r_iter,label=\"KMC\")\n",
      "title(\"Convergence\")\n",
      "yscale('log')\n",
      "legend()\n",
      "show() "
     ],
     "language": "python",
     "metadata": {},
     "outputs": [
      {
       "metadata": {},
       "output_type": "display_data",
       "png": "[encoded data removed]",
       "text": [
        "<matplotlib.figure.Figure at 0x10df6f950>"
       ]
      }
     ],
     "prompt_number": 33
    }
   ],
   "metadata": {}
  }
 ]
}