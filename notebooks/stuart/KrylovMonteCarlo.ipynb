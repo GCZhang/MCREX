{
 "metadata": {
  "name": "",
  "signature": "sha256:8b10fa1290ef38a30e59ef21acb8be53bd5b047e9052af2c818b7be41350fb3d"
 },
 "nbformat": 3,
 "nbformat_minor": 0,
 "worksheets": [
  {
   "cells": [
    {
     "cell_type": "heading",
     "level": 1,
     "metadata": {},
     "source": [
      "Krylov Monte Carlo"
     ]
    },
    {
     "cell_type": "code",
     "collapsed": false,
     "input": [
      "%load_ext autoreload"
     ],
     "language": "python",
     "metadata": {},
     "outputs": [],
     "prompt_number": 1
    },
    {
     "cell_type": "code",
     "collapsed": false,
     "input": [
      "%autoreload 2"
     ],
     "language": "python",
     "metadata": {},
     "outputs": [],
     "prompt_number": 2
    },
    {
     "cell_type": "code",
     "collapsed": false,
     "input": [
      "import numpy\n",
      "\n",
      "grid_size = 50\n",
      "h = 1.0"
     ],
     "language": "python",
     "metadata": {},
     "outputs": [],
     "prompt_number": 3
    },
    {
     "cell_type": "markdown",
     "metadata": {},
     "source": [
      "Build the linear problem"
     ]
    },
    {
     "cell_type": "code",
     "collapsed": false,
     "input": [
      "import array_tools\n",
      "import mc_data\n",
      "\n",
      "D = 1.0\n",
      "\n",
      "A = array_tools.makePoissonOperator( grid_size, h, D )\n",
      "diag = array_tools.getInvDiag( A )\n",
      "A = array_tools.leftScaleMatrix( A, diag )\n",
      "\n",
      "f_lo = -1\n",
      "f_hi = grid_size+1\n",
      "f = numpy.zeros( grid_size )\n",
      "for i in xrange(grid_size):\n",
      "    if (i > f_lo) and (i < f_hi):\n",
      "        f[i] = f[i] + 1.0\n",
      "f = array_tools.scaleVector( f, diag )\n",
      "\n",
      "eval_A, evec_A = numpy.linalg.eig(A)\n",
      "spec_rad_A = max(sorted(abs(i) for i in eval_A))\n",
      "print \"rho(A):\", spec_rad_A\n",
      "\n",
      "H = mc_data.makeIterationMatrix( A )\n",
      "eval_H, evec_H = numpy.linalg.eig(H)\n",
      "spec_rad_H = max(sorted(abs(i) for i in eval_H))\n",
      "print \"rho(H):\", spec_rad_H"
     ],
     "language": "python",
     "metadata": {},
     "outputs": [
      {
       "output_type": "stream",
       "stream": "stdout",
       "text": [
        "rho(A): 1.66536166232\n",
        "rho(H): 0.665361662323\n"
       ]
      }
     ],
     "prompt_number": 4
    },
    {
     "cell_type": "markdown",
     "metadata": {},
     "source": [
      "Compute the reference solution"
     ]
    },
    {
     "cell_type": "code",
     "collapsed": false,
     "input": [
      "ref = numpy.linalg.solve(A,f)"
     ],
     "language": "python",
     "metadata": {},
     "outputs": [],
     "prompt_number": 5
    },
    {
     "cell_type": "heading",
     "level": 2,
     "metadata": {},
     "source": [
      "Krylov Monte Carlo"
     ]
    },
    {
     "cell_type": "code",
     "collapsed": false,
     "input": [
      "import time\n",
      "import math\n",
      "import batch_tools\n",
      "import mc_tools\n",
      "\n",
      "start = time.time()\n",
      "\n",
      "tol = 1.0e-8\n",
      "max_iter = 10\n",
      "np = 1000\n",
      "subspace_size = 10\n",
      "\n",
      "x = numpy.zeros(grid_size)\n",
      "r = array_tools.computeResidual( A, x, f )\n",
      "r_norm = numpy.linalg.norm(r,2)\n",
      "f_norm = numpy.linalg.norm(f,2)\n",
      "\n",
      "print \"||r_0||_2/||f||_2\", r_norm/f_norm\n",
      "iter = 0\n",
      "r_iter = []\n",
      "r_iter.append(r_norm/f_norm)\n",
      "while (iter < max_iter) and ( r_norm/f_norm > tol ):\n",
      "    \n",
      "    # Compute the Krylov subspace with Monte Carlo\n",
      "    subspace = mc_tools.monteCarloMatrixPolynomial(A,r,np,subspace_size)\n",
      "    \n",
      "    # Apply the Galerkin condition to compute the basis coefficients\n",
      "    # and extract the correction from the Krylov subspace\n",
      "    delta = batch_tools.computeConstrainedLeastSquares(A,subspace,f,x)\n",
      "\n",
      "    # Apply the correction\n",
      "    x = array_tools.updateVector( x, delta )\n",
      "\n",
      "    # Compute the resulting residual\n",
      "    r = array_tools.computeResidual( A, x, f )\n",
      "    r_norm = numpy.linalg.norm(r,2)\n",
      "    f_norm = numpy.linalg.norm(f,2)\n",
      "    r_iter.append(r_norm/f_norm)\n",
      "    iter = iter+1\n",
      "    print \"Iteration:\", iter, \"||r||_2/||f||_2\", r_norm / f_norm\n",
      "\n",
      "end = time.time()\n",
      "krylov_time = end - start\n",
      "print \"Total time:\", krylov_time"
     ],
     "language": "python",
     "metadata": {},
     "outputs": [
      {
       "output_type": "stream",
       "stream": "stdout",
       "text": [
        "||r_0||_2/||f||_2 1.0\n",
        "Iteration:"
       ]
      },
      {
       "output_type": "stream",
       "stream": "stdout",
       "text": [
        " 1 ||r||_2/||f||_2 0.753215281199\n",
        "Iteration:"
       ]
      },
      {
       "output_type": "stream",
       "stream": "stdout",
       "text": [
        " 2 ||r||_2/||f||_2 0.499111099018\n",
        "Iteration:"
       ]
      },
      {
       "output_type": "stream",
       "stream": "stdout",
       "text": [
        " 3 ||r||_2/||f||_2 0.376724083189\n",
        "Iteration:"
       ]
      },
      {
       "output_type": "stream",
       "stream": "stdout",
       "text": [
        " 4 ||r||_2/||f||_2 0.272322194594\n",
        "Iteration:"
       ]
      },
      {
       "output_type": "stream",
       "stream": "stdout",
       "text": [
        " 5 ||r||_2/||f||_2 0.197601765209\n",
        "Iteration:"
       ]
      },
      {
       "output_type": "stream",
       "stream": "stdout",
       "text": [
        " 6 ||r||_2/||f||_2 0.13345636262\n",
        "Iteration:"
       ]
      },
      {
       "output_type": "stream",
       "stream": "stdout",
       "text": [
        " 7 ||r||_2/||f||_2 0.0938824309105\n",
        "Iteration:"
       ]
      },
      {
       "output_type": "stream",
       "stream": "stdout",
       "text": [
        " 8 ||r||_2/||f||_2 0.0676426617804\n",
        "Iteration:"
       ]
      },
      {
       "output_type": "stream",
       "stream": "stdout",
       "text": [
        " 9 ||r||_2/||f||_2 0.0462931378634\n",
        "Iteration:"
       ]
      },
      {
       "output_type": "stream",
       "stream": "stdout",
       "text": [
        " 10 ||r||_2/||f||_2 0.0316675739249\n",
        "Total time: 10.3503799438\n"
       ]
      }
     ],
     "prompt_number": 6
    },
    {
     "cell_type": "heading",
     "level": 2,
     "metadata": {},
     "source": [
      "Analysis"
     ]
    },
    {
     "cell_type": "code",
     "collapsed": false,
     "input": [
      "%matplotlib inline\n",
      "import matplotlib.pyplot as plt\n",
      "from pylab import *\n",
      "\n",
      "plot_grid = numpy.linspace(0,grid_size,grid_size)\n",
      "figure(figsize=(10,8), dpi=100)\n",
      "plot(plot_grid,ref,label=\"Ref\")\n",
      "plot(plot_grid,x,label=\"KMC\")\n",
      "title(\"Solution\")\n",
      "legend()\n",
      "show() "
     ],
     "language": "python",
     "metadata": {},
     "outputs": [
      {
       "metadata": {},
       "output_type": "display_data",
       "png": "[encoded data removed]",
       "text": [
        "<matplotlib.figure.Figure at 0x10a73ea50>"
       ]
      }
     ],
     "prompt_number": 7
    },
    {
     "cell_type": "code",
     "collapsed": false,
     "input": [
      "conv_grid = numpy.linspace(0,iter+1,iter+1)\n",
      "fig = figure(figsize=(10,8), dpi=100)\n",
      "plot(conv_grid,r_iter,label=\"KMC\")\n",
      "title(\"Convergence\")\n",
      "yscale('log')\n",
      "legend()\n",
      "show() "
     ],
     "language": "python",
     "metadata": {},
     "outputs": [
      {
       "metadata": {},
       "output_type": "display_data",
       "png": "[encoded data removed]",
       "text": [
        "<matplotlib.figure.Figure at 0x1088c0dd0>"
       ]
      }
     ],
     "prompt_number": 8
    }
   ],
   "metadata": {}
  }
 ]
}