{
 "metadata": {
  "name": "",
  "signature": "sha256:6a97cd5ea81bcc05cbd732da0eb8ea8e59ec61f67a18bc23015475cbdd063f0a"
 },
 "nbformat": 3,
 "nbformat_minor": 0,
 "worksheets": [
  {
   "cells": [
    {
     "cell_type": "heading",
     "level": 1,
     "metadata": {},
     "source": [
      "Krylov Subspace Solver"
     ]
    },
    {
     "cell_type": "code",
     "collapsed": false,
     "input": [
      "%load_ext autoreload"
     ],
     "language": "python",
     "metadata": {},
     "outputs": [
      {
       "output_type": "stream",
       "stream": "stdout",
       "text": [
        "The autoreload extension is already loaded. To reload it, use:\n",
        "  %reload_ext autoreload\n"
       ]
      }
     ],
     "prompt_number": 379
    },
    {
     "cell_type": "code",
     "collapsed": false,
     "input": [
      "%autoreload 2"
     ],
     "language": "python",
     "metadata": {},
     "outputs": [],
     "prompt_number": 380
    },
    {
     "cell_type": "code",
     "collapsed": false,
     "input": [
      "import numpy\n",
      "\n",
      "grid_size = 50\n",
      "h = 1.0"
     ],
     "language": "python",
     "metadata": {},
     "outputs": [],
     "prompt_number": 381
    },
    {
     "cell_type": "markdown",
     "metadata": {},
     "source": [
      "Build the linear problem"
     ]
    },
    {
     "cell_type": "code",
     "collapsed": false,
     "input": [
      "import array_tools\n",
      "import mc_data\n",
      "\n",
      "D = 1.0\n",
      "\n",
      "A = array_tools.makePoissonOperator( grid_size, h, D )\n",
      "diag = array_tools.getInvDiag( A )\n",
      "A = array_tools.leftScaleMatrix( A, diag )\n",
      "\n",
      "f_lo = -1\n",
      "f_hi = grid_size+1\n",
      "f = numpy.zeros( grid_size )\n",
      "for i in xrange(grid_size):\n",
      "    if (i > f_lo) and (i < f_hi):\n",
      "        f[i] = f[i] + 1.0\n",
      "f = array_tools.scaleVector( f, diag )\n",
      "\n",
      "H = mc_data.makeIterationMatrix( A )\n",
      "eval_H, evec_H = numpy.linalg.eig(H)\n",
      "spec_rad_H = max(sorted(abs(i) for i in eval_H))\n",
      "print \"rho(H):\", spec_rad_H"
     ],
     "language": "python",
     "metadata": {},
     "outputs": [
      {
       "output_type": "stream",
       "stream": "stdout",
       "text": [
        "rho(H): 0.665361662323\n"
       ]
      }
     ],
     "prompt_number": 387
    },
    {
     "cell_type": "markdown",
     "metadata": {},
     "source": [
      "Compute the reference solution"
     ]
    },
    {
     "cell_type": "code",
     "collapsed": false,
     "input": [
      "ref = numpy.linalg.solve(A,f)"
     ],
     "language": "python",
     "metadata": {},
     "outputs": [],
     "prompt_number": 383
    },
    {
     "cell_type": "heading",
     "level": 2,
     "metadata": {},
     "source": [
      "Krylov Solve"
     ]
    },
    {
     "cell_type": "code",
     "collapsed": false,
     "input": [
      "import time\n",
      "import batch_tools\n",
      "import random\n",
      "\n",
      "start = time.time()\n",
      "\n",
      "tol = 1.0e-8\n",
      "max_iter = 100\n",
      "subspace_size = 10\n",
      "\n",
      "x = numpy.zeros(grid_size)\n",
      "r = array_tools.computeResidual( A, x, f )\n",
      "r_norm = numpy.linalg.norm(r,2)\n",
      "f_norm = numpy.linalg.norm(f,2)\n",
      "\n",
      "print \"||r_0||_2/||f||_2\", r_norm/f_norm\n",
      "\n",
      "iter = 0\n",
      "r_iter = []\n",
      "r_iter.append(r_norm/f_norm)\n",
      "while (iter < max_iter) and ( r_norm/f_norm > tol ):\n",
      "\n",
      "    # Compute the Krylov subspace\n",
      "    subspace = []\n",
      "    subspace.append(r)\n",
      "    for i in xrange(1,subspace_size):\n",
      "        Ar_i = numpy.dot(A,subspace[i-1])\n",
      "        subspace.append(Ar_i)\n",
      "\n",
      "    # Apply the Galerkin condition to compute the basis coefficients\n",
      "    # and extract the correction from the Krylov subspace\n",
      "    delta = batch_tools.computeConstrainedLeastSquares(A,subspace,f,x)\n",
      "    x = array_tools.updateVector( x, delta )\n",
      "\n",
      "    # Compute the resulting residual.\n",
      "    r = array_tools.computeResidual( A, x, f )\n",
      "    r_norm = numpy.linalg.norm(r,2)\n",
      "    f_norm = numpy.linalg.norm(f,2)\n",
      "    r_iter.append(r_norm/f_norm)\n",
      "    iter = iter+1\n",
      "    print \"Iteration:\", iter, \"||r||_2/||f||_2\", r_norm / f_norm\n",
      "\n",
      "end = time.time()\n",
      "krylov_time = end - start\n",
      "print \"Total time:\", krylov_time"
     ],
     "language": "python",
     "metadata": {},
     "outputs": [
      {
       "output_type": "stream",
       "stream": "stdout",
       "text": [
        "||r_0||_2/||f||_2 1.0\n",
        "Iteration: 1 ||r||_2/||f||_2 0.714368639639\n",
        "Iteration: 2 ||r||_2/||f||_2 0.542730247571\n",
        "Iteration: 3 ||r||_2/||f||_2 0.427031160447\n",
        "Iteration: 4 ||r||_2/||f||_2 0.337142421011\n",
        "Iteration: 5 ||r||_2/||f||_2 0.266425769828\n",
        "Iteration: 6 ||r||_2/||f||_2 0.210559372488\n",
        "Iteration: 7 ||r||_2/||f||_2 0.166304728551\n",
        "Iteration: 8 ||r||_2/||f||_2 0.131306377621\n",
        "Iteration: 9 ||r||_2/||f||_2 0.103557326724\n",
        "Iteration: 10 ||r||_2/||f||_2 0.0816095903593\n",
        "Iteration: 11 ||r||_2/||f||_2 0.064217656138\n",
        "Iteration: 12 ||r||_2/||f||_2 0.0504689188316\n",
        "Iteration: 13 ||r||_2/||f||_2 0.0396228277682\n",
        "Iteration: 14 ||r||_2/||f||_2 0.0310639767092\n",
        "Iteration: 15 ||r||_2/||f||_2 0.0243768152313\n",
        "Iteration: 16 ||r||_2/||f||_2 0.0191077755358\n",
        "Iteration: 17 ||r||_2/||f||_2 0.0149600749511\n",
        "Iteration: 18 ||r||_2/||f||_2 0.011698423107\n",
        "Iteration: 19 ||r||_2/||f||_2 0.00913646322973\n",
        "Iteration: 20 ||r||_2/||f||_2 0.00713688362295\n",
        "Iteration: 21 ||r||_2/||f||_2 0.00556629841151\n",
        "Iteration: 22 ||r||_2/||f||_2 0.00433912099419\n",
        "Iteration: 23 ||r||_2/||f||_2 0.00338342706976\n",
        "Iteration: 24 ||r||_2/||f||_2 0.00264246261015\n",
        "Iteration: 25 ||r||_2/||f||_2 0.00206001876234\n",
        "Iteration: 26 ||r||_2/||f||_2 0.00160495099842\n",
        "Iteration:"
       ]
      },
      {
       "output_type": "stream",
       "stream": "stdout",
       "text": [
        " 27 ||r||_2/||f||_2 0.00124728270777\n",
        "Iteration: 28 ||r||_2/||f||_2 0.000969114783654\n",
        "Iteration: 29 ||r||_2/||f||_2 0.000751075850742\n",
        "Iteration: 30 ||r||_2/||f||_2 0.000581967584603\n",
        "Iteration: 31 ||r||_2/||f||_2 0.000450241933686\n",
        "Iteration: 32 ||r||_2/||f||_2 0.000348795586339\n",
        "Iteration: 33 ||r||_2/||f||_2 0.000269603218824\n",
        "Iteration: 34 ||r||_2/||f||_2 0.000208272021092\n",
        "Iteration: 35 ||r||_2/||f||_2 0.000159902497205\n",
        "Iteration: 36 ||r||_2/||f||_2 0.000122635160567\n",
        "Iteration: 37 ||r||_2/||f||_2 9.33337034721e-05\n",
        "Iteration: 38 ||r||_2/||f||_2 7.08955907941e-05\n",
        "Iteration: 39 ||r||_2/||f||_2 5.43944463272e-05\n",
        "Iteration: 40 ||r||_2/||f||_2 4.17639048653e-05\n",
        "Iteration: 41 ||r||_2/||f||_2 3.23721836106e-05\n",
        "Iteration: 42 ||r||_2/||f||_2 2.51795573991e-05\n",
        "Iteration: 43 ||r||_2/||f||_2 1.97624412481e-05\n",
        "Iteration: 44 ||r||_2/||f||_2 1.55350781337e-05\n",
        "Iteration: 45 ||r||_2/||f||_2 1.22066575031e-05\n",
        "Iteration: 46 ||r||_2/||f||_2 9.56610405101e-06\n",
        "Iteration: 47 ||r||_2/||f||_2 7.48872003384e-06\n",
        "Iteration: 48 ||r||_2/||f||_2 5.87695240919e-06\n",
        "Iteration: 49 ||r||_2/||f||_2 4.6160068843e-06\n",
        "Iteration: 50 ||r||_2/||f||_2 3.63123095807e-06\n",
        "Iteration: 51 ||r||_2/||f||_2 2.85433228732e-06\n",
        "Iteration: 52 ||r||_2/||f||_2 2.24332446639e-06\n",
        "Iteration:"
       ]
      },
      {
       "output_type": "stream",
       "stream": "stdout",
       "text": [
        " 53 ||r||_2/||f||_2 1.76044822961e-06\n",
        "Iteration: 54 ||r||_2/||f||_2 1.38046343969e-06\n",
        "Iteration: 55 ||r||_2/||f||_2 1.08025595943e-06\n",
        "Iteration: 56 ||r||_2/||f||_2 8.44091084772e-07\n",
        "Iteration: 57 ||r||_2/||f||_2 6.57893743479e-07\n",
        "Iteration: 58 ||r||_2/||f||_2 5.11668760811e-07\n",
        "Iteration: 59 ||r||_2/||f||_2 3.9708529607e-07\n",
        "Iteration: 60 ||r||_2/||f||_2 3.08538063083e-07\n",
        "Iteration: 61 ||r||_2/||f||_2 2.38913787069e-07\n",
        "Iteration: 62 ||r||_2/||f||_2 1.8469622538e-07\n",
        "Iteration: 63 ||r||_2/||f||_2 1.42015489703e-07\n",
        "Iteration: 64 ||r||_2/||f||_2 1.08851397693e-07\n",
        "Iteration: 65 ||r||_2/||f||_2 8.27631970838e-08\n",
        "Iteration: 66 ||r||_2/||f||_2 6.2420201493e-08\n",
        "Iteration: 67 ||r||_2/||f||_2 4.69044175974e-08\n",
        "Iteration: 68 ||r||_2/||f||_2 3.50290107007e-08\n",
        "Iteration: 69 ||r||_2/||f||_2 2.59286813459e-08\n",
        "Iteration: 70 ||r||_2/||f||_2 1.9292713096e-08\n",
        "Iteration: 71 ||r||_2/||f||_2 1.40778475817e-08\n",
        "Iteration: 72 ||r||_2/||f||_2 1.03301509835e-08\n",
        "Iteration: 73 ||r||_2/||f||_2 7.1917859294e-09\n",
        "Total time: 0.141957998276\n"
       ]
      }
     ],
     "prompt_number": 384
    },
    {
     "cell_type": "heading",
     "level": 2,
     "metadata": {},
     "source": [
      "Analysis"
     ]
    },
    {
     "cell_type": "code",
     "collapsed": false,
     "input": [
      "%matplotlib inline\n",
      "import matplotlib.pyplot as plt\n",
      "from pylab import *\n",
      "\n",
      "plot_grid = numpy.linspace(0,grid_size,grid_size)\n",
      "figure(figsize=(10,8), dpi=100)\n",
      "plot(plot_grid,ref,label=\"Ref\")\n",
      "plot(plot_grid,x,label=\"MCSA\")\n",
      "title(\"Solution\")\n",
      "legend()\n",
      "show() "
     ],
     "language": "python",
     "metadata": {},
     "outputs": [
      {
       "metadata": {},
       "output_type": "display_data",
       "png": "[encoded data removed]",
       "text": [
        "<matplotlib.figure.Figure at 0x1164d8210>"
       ]
      }
     ],
     "prompt_number": 385
    },
    {
     "cell_type": "code",
     "collapsed": false,
     "input": [
      "conv_grid = numpy.linspace(0,iter+1,iter+1)\n",
      "fig = figure(figsize=(10,8), dpi=100)\n",
      "plot(conv_grid,r_iter,label=\"KMC\")\n",
      "title(\"Convergence\")\n",
      "yscale('log')\n",
      "legend()\n",
      "show() "
     ],
     "language": "python",
     "metadata": {},
     "outputs": [
      {
       "metadata": {},
       "output_type": "display_data",
       "png": "[encoded data removed]",
       "text": [
        "<matplotlib.figure.Figure at 0x115a20650>"
       ]
      }
     ],
     "prompt_number": 386
    }
   ],
   "metadata": {}
  }
 ]
}