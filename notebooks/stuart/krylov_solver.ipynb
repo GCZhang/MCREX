{
 "metadata": {
  "name": "",
  "signature": "sha256:b87bb1f617bb32b402252d5a2e953c1df58caf0062b143ff44122257057e2c48"
 },
 "nbformat": 3,
 "nbformat_minor": 0,
 "worksheets": [
  {
   "cells": [
    {
     "cell_type": "heading",
     "level": 1,
     "metadata": {},
     "source": [
      "Krylov Subspace Solver"
     ]
    },
    {
     "cell_type": "code",
     "collapsed": false,
     "input": [
      "%load_ext autoreload"
     ],
     "language": "python",
     "metadata": {},
     "outputs": [
      {
       "output_type": "stream",
       "stream": "stdout",
       "text": [
        "The autoreload extension is already loaded. To reload it, use:\n",
        "  %reload_ext autoreload\n"
       ]
      }
     ],
     "prompt_number": 17
    },
    {
     "cell_type": "code",
     "collapsed": false,
     "input": [
      "%autoreload 2"
     ],
     "language": "python",
     "metadata": {},
     "outputs": [],
     "prompt_number": 18
    },
    {
     "cell_type": "code",
     "collapsed": false,
     "input": [
      "import numpy\n",
      "\n",
      "grid_size = 100\n",
      "h = 1.0"
     ],
     "language": "python",
     "metadata": {},
     "outputs": [],
     "prompt_number": 19
    },
    {
     "cell_type": "markdown",
     "metadata": {},
     "source": [
      "Build the linear problem"
     ]
    },
    {
     "cell_type": "code",
     "collapsed": false,
     "input": [
      "import array_tools\n",
      "import mc_data\n",
      "\n",
      "D = 1.0\n",
      "\n",
      "A = array_tools.makePoissonOperator( grid_size, h, D )\n",
      "diag = array_tools.getInvDiag( A )\n",
      "A = array_tools.leftScaleMatrix( A, diag )\n",
      "\n",
      "f_lo = -1\n",
      "f_hi = grid_size+1\n",
      "f = numpy.zeros( grid_size )\n",
      "for i in xrange(grid_size):\n",
      "    if (i > f_lo) and (i < f_hi):\n",
      "        f[i] = f[i] + 1.0\n",
      "f = array_tools.scaleVector( f, diag )\n",
      "\n",
      "H = mc_data.makeIterationMatrix( A )\n",
      "eval_H, evec_H = numpy.linalg.eig(H)\n",
      "spec_rad_H = max(sorted(abs(i) for i in eval_H))\n",
      "print \"rho(H):\", spec_rad_H"
     ],
     "language": "python",
     "metadata": {},
     "outputs": [
      {
       "output_type": "stream",
       "stream": "stdout",
       "text": [
        "rho(H): 0.666339020351\n"
       ]
      }
     ],
     "prompt_number": 20
    },
    {
     "cell_type": "markdown",
     "metadata": {},
     "source": [
      "Compute the reference solution"
     ]
    },
    {
     "cell_type": "code",
     "collapsed": false,
     "input": [
      "ref = numpy.linalg.solve(A,f)"
     ],
     "language": "python",
     "metadata": {},
     "outputs": [],
     "prompt_number": 21
    },
    {
     "cell_type": "heading",
     "level": 2,
     "metadata": {},
     "source": [
      "Krylov Solve"
     ]
    },
    {
     "cell_type": "code",
     "collapsed": false,
     "input": [
      "import time\n",
      "import batch_tools\n",
      "import random\n",
      "\n",
      "start = time.time()\n",
      "\n",
      "tol = 1.0e-8\n",
      "max_iter = 10\n",
      "subspace_size = 2\n",
      "\n",
      "x = numpy.zeros(grid_size)\n",
      "r = array_tools.computeResidual( A, x, f )\n",
      "r_norm = numpy.linalg.norm(r,2)\n",
      "f_norm = numpy.linalg.norm(f,2)\n",
      "\n",
      "print \"||r_0||_2/||f||_2\", r_norm/f_norm\n",
      "\n",
      "iter = 0\n",
      "r_iter = []\n",
      "r_iter.append(r_norm/f_norm)\n",
      "while (iter < max_iter) and ( r_norm/f_norm > tol ):\n",
      "\n",
      "    # Compute the Krylov subspace\n",
      "    subspace = []\n",
      "    subspace.append(r)\n",
      "    for i in xrange(1,subspace_size):\n",
      "        Ar_i = numpy.dot(A,subspace[i-1])\n",
      "        subspace.append(Ar_i)\n",
      "\n",
      "    # Apply the Galerkin condition to compute the basis coefficients\n",
      "    # and extract the correction from the Krylov subspace\n",
      "    delta = batch_tools.computeConstrainedLeastSquares(A,subspace,f,x)\n",
      "    x = array_tools.updateVector( x, delta )\n",
      "\n",
      "    # Compute the resulting residual.\n",
      "    r = array_tools.computeResidual( A, x, f )\n",
      "    r_norm = numpy.linalg.norm(r,2)\n",
      "    f_norm = numpy.linalg.norm(f,2)\n",
      "    r_iter.append(r_norm/f_norm)\n",
      "    iter = iter+1\n",
      "    print \"Iteration:\", iter, \"||r||_2/||f||_2\", r_norm / f_norm\n",
      "\n",
      "end = time.time()\n",
      "krylov_time = end - start\n",
      "print \"Total time:\", krylov_time"
     ],
     "language": "python",
     "metadata": {},
     "outputs": [
      {
       "output_type": "stream",
       "stream": "stdout",
       "text": [
        "||r_0||_2/||f||_2 1.0\n",
        "Iteration: 1 ||r||_2/||f||_2 0.0374631354036\n",
        "Iteration: 2 ||r||_2/||f||_2 0.00816123740925\n",
        "Iteration: 3 ||r||_2/||f||_2 0.00253433531279\n",
        "Iteration: 4 ||r||_2/||f||_2 0.000898014517084\n",
        "Iteration: 5 ||r||_2/||f||_2 0.000337899677222\n",
        "Iteration: 6 ||r||_2/||f||_2 0.000131951084189\n",
        "Iteration: 7 ||r||_2/||f||_2 5.26875048007e-05\n",
        "Iteration: 8 ||r||_2/||f||_2 2.1373626796e-05\n",
        "Iteration: 9 ||r||_2/||f||_2 8.759260818e-06\n",
        "Iteration: 10 ||r||_2/||f||_2 3.61897558457e-06\n",
        "Total time: 0.0119068622589\n"
       ]
      }
     ],
     "prompt_number": 22
    },
    {
     "cell_type": "heading",
     "level": 2,
     "metadata": {},
     "source": [
      "Analysis"
     ]
    },
    {
     "cell_type": "code",
     "collapsed": false,
     "input": [
      "%matplotlib inline\n",
      "import matplotlib.pyplot as plt\n",
      "from pylab import *\n",
      "\n",
      "plot_grid = numpy.linspace(0,grid_size,grid_size)\n",
      "figure(figsize=(10,8), dpi=100)\n",
      "plot(plot_grid,ref,label=\"Ref\")\n",
      "plot(plot_grid,x,label=\"MCSA\")\n",
      "title(\"Solution\")\n",
      "legend()\n",
      "show() "
     ],
     "language": "python",
     "metadata": {},
     "outputs": [
      {
       "metadata": {},
       "output_type": "display_data",
       "png": "[encoded data removed]",
       "text": [
        "<matplotlib.figure.Figure at 0x114c35610>"
       ]
      }
     ],
     "prompt_number": 23
    },
    {
     "cell_type": "code",
     "collapsed": false,
     "input": [
      "conv_grid = numpy.linspace(0,iter+1,iter+1)\n",
      "fig = figure(figsize=(10,8), dpi=100)\n",
      "plot(conv_grid,r_iter,label=\"KMC\")\n",
      "title(\"Convergence\")\n",
      "yscale('log')\n",
      "legend()\n",
      "show() "
     ],
     "language": "python",
     "metadata": {},
     "outputs": [
      {
       "metadata": {},
       "output_type": "display_data",
       "png": "[encoded data removed]",
       "text": [
        "<matplotlib.figure.Figure at 0x114838d10>"
       ]
      }
     ],
     "prompt_number": 24
    }
   ],
   "metadata": {}
  }
 ]
}