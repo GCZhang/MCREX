{
 "metadata": {
  "name": "",
  "signature": "sha256:290c0f04555944e8e1f1fbc761453b253375eec86befd556bdf698e36e015a72"
 },
 "nbformat": 3,
 "nbformat_minor": 0,
 "worksheets": [
  {
   "cells": [
    {
     "cell_type": "code",
     "collapsed": false,
     "input": [
      "%load_ext autoreload"
     ],
     "language": "python",
     "metadata": {},
     "outputs": [
      {
       "output_type": "stream",
       "stream": "stdout",
       "text": [
        "The autoreload extension is already loaded. To reload it, use:\n",
        "  %reload_ext autoreload\n"
       ]
      }
     ],
     "prompt_number": 87
    },
    {
     "cell_type": "code",
     "collapsed": false,
     "input": [
      "%autoreload 2"
     ],
     "language": "python",
     "metadata": {},
     "outputs": [],
     "prompt_number": 88
    },
    {
     "cell_type": "heading",
     "level": 1,
     "metadata": {},
     "source": [
      "Two-Level Monte Carlo Scheme"
     ]
    },
    {
     "cell_type": "markdown",
     "metadata": {},
     "source": [
      "This study analyzyes a two-level Monte Carlo scheme applied to a Poisson problem discretized by a cell-centered finite difference scheme."
     ]
    },
    {
     "cell_type": "heading",
     "level": 2,
     "metadata": {},
     "source": [
      "Multilevel Scheme"
     ]
    },
    {
     "cell_type": "markdown",
     "metadata": {},
     "source": [
      "We explore here the basics of the multilevel Monte Carlo scheme when applied to the solution of linear systems. Consider the two level estimator of Giles:\n",
      "\n",
      "\\begin{equation}\n",
      "   E(u) = E(u_1) + E(u_0-u_1)\n",
      "\\end{equation}\n",
      "\n",
      "Where $E(u_1)$ is the estimate on the coarse level and $E(u_0)$ is the estimate on the fine level. One can interpret this as correcting the coarse solution with a difference between the fine and coarse solution. We will then have 2 grids:"
     ]
    },
    {
     "cell_type": "raw",
     "metadata": {},
     "source": [
      "|-------x------|-------x------|-------x------|-------x------|-------x------|-------x------|\n",
      "      u0(0)          u0(1)          u0(2)          u0(3)          u0(4)          u0(5)\n",
      "\n",
      "|--------------x--------------|--------------x--------------|--------------x--------------|\n",
      "             u1(0)                         u1(1)                         u1(2)"
     ]
    },
    {
     "cell_type": "markdown",
     "metadata": {},
     "source": [
      "The key behind constructing the multilevel estimate is that separate sets of random walks are performed, one on fine grid $u0$ with grid size $h=1$ and one on coarse grid $u1$ with grid size $h=2$. For the random walks on the fine grid, two tallies are performed on both the coarse and fine grids with their difference computed to construct $E(u_0-u_1)$. Let's make the grids:"
     ]
    },
    {
     "cell_type": "code",
     "collapsed": false,
     "input": [
      "import numpy\n",
      "\n",
      "grid_0_size = 50\n",
      "grid_1_size = grid_0_size / 2"
     ],
     "language": "python",
     "metadata": {},
     "outputs": [],
     "prompt_number": 89
    },
    {
     "cell_type": "heading",
     "level": 2,
     "metadata": {},
     "source": [
      "Model Problem"
     ]
    },
    {
     "cell_type": "markdown",
     "metadata": {},
     "source": [
      "We solve the Poisson problem on one-dimension:\n",
      "\\begin{equation}\n",
      "    \\nabla^2 \\mathbf{u} = \\mathbf{f}\n",
      "\\end{equation}\n",
      "with $\\mathbf{u} \\in \\mathbf{R}^N$ the solution variable and $\\mathbf{f} \\in \\mathbb{R}^N$ the forcing term. We discretize with a cell-centered finite difference with mesh size h:\n",
      "\\begin{equation}\n",
      "    \\frac{1}{h^2}(u_{i-1} - 2u_i + u_{i+1}) = f_i\n",
      "\\end{equation}\n",
      "The boundary conditions on the left are:\n",
      "\\begin{equation}\n",
      "    \\frac{1}{h^2}(u_{-1} - 2u_0 + u_{1}) = f_0\n",
      "\\end{equation}\n",
      "On a cell-centered grid we have:"
     ]
    },
    {
     "cell_type": "raw",
     "metadata": {},
     "source": [
      "    |-------x------|-------x------|------x------|\n",
      "u(-1/2)    u(0)          u(1)           u(2)"
     ]
    },
    {
     "cell_type": "markdown",
     "metadata": {},
     "source": [
      "We set $u_{-1/2} = 0$ so that\n",
      "\\begin{equation}\n",
      "\\frac{1}{h^2}(-3u_0 + u_1) = f_0\n",
      "\\end{equation}\n",
      "\n",
      "This gives the following linear operator:\n",
      "\\begin{equation}\n",
      "    \\nabla^2 = \\frac{1}{h^2}\n",
      "    \\begin{bmatrix}\n",
      "        -3 & 1 & & & & & \\\\\n",
      "         1 & -2 & 1 & & & & \\\\\n",
      "           & 1 & -2 & 1 & & & \\\\\n",
      "           & & & \\cdots & & & \\\\\n",
      "           & & & & 1 & -2 & 1 \\\\\n",
      "           & & & & & 1 & -3 \\\\\n",
      "    \\end{bmatrix}\n",
      "\\end{equation}\n",
      "\n",
      "We will construct the diagonally-scaled operators on each grid next:"
     ]
    },
    {
     "cell_type": "code",
     "collapsed": false,
     "input": [
      "import mc_data\n",
      "A_0 = mc_data.makePoissonOperator( grid_0_size )\n",
      "A_1 = mc_data.makePoissonOperator( grid_1_size )"
     ],
     "language": "python",
     "metadata": {},
     "outputs": [],
     "prompt_number": 90
    },
    {
     "cell_type": "markdown",
     "metadata": {},
     "source": [
      "Next make a forcing term. Choose a forcing term of unity to make it simple to define on each grid. Note that because we are halving the number of elements in the grid when coarsening the operator must subsequently be scaled by 1.0/h^2 where h is now 2. These means to maintain diagonal scaling we must scale the RHS of grid one by 4."
     ]
    },
    {
     "cell_type": "code",
     "collapsed": false,
     "input": [
      "import multilevel_tools\n",
      "\n",
      "f_0 = numpy.ones( grid_0_size )\n",
      "f_1 = numpy.ones( grid_1_size )\n",
      "for i in xrange(grid_1_size):\n",
      "    f_1[i] = 4.0*f_1[i]"
     ],
     "language": "python",
     "metadata": {},
     "outputs": [],
     "prompt_number": 91
    },
    {
     "cell_type": "heading",
     "level": 2,
     "metadata": {},
     "source": [
      "Monte Carlo Solution"
     ]
    },
    {
     "cell_type": "markdown",
     "metadata": {},
     "source": [
      "Set the weight cutoff and number of histories to compute on each grid."
     ]
    },
    {
     "cell_type": "code",
     "collapsed": false,
     "input": [
      "w_c = 1.0e-2\n",
      "np = 1000\n",
      "\n",
      "np_ml = 1800\n",
      "np_0 = int(np_ml*2**(-3.0/2.0))\n",
      "np_1 = int(np_ml)"
     ],
     "language": "python",
     "metadata": {},
     "outputs": [],
     "prompt_number": 92
    },
    {
     "cell_type": "markdown",
     "metadata": {},
     "source": [
      "Solve the problem with standard Monte Carlo"
     ]
    },
    {
     "cell_type": "code",
     "collapsed": false,
     "input": [
      "import time\n",
      "import mc_tools\n",
      "\n",
      "start = time.time()\n",
      "x, sigma = mc_tools.monteCarloSolve( A_0, f_0, w_c, np)\n",
      "end = time.time()\n",
      "time_x = end - start\n",
      "print \"1-level time:\", time_x"
     ],
     "language": "python",
     "metadata": {},
     "outputs": [
      {
       "output_type": "stream",
       "stream": "stdout",
       "text": [
        "1-level time: 11.7243020535\n"
       ]
      }
     ],
     "prompt_number": 93
    },
    {
     "cell_type": "markdown",
     "metadata": {},
     "source": [
      "Now compute the multilevel solution using Giles' estimator"
     ]
    },
    {
     "cell_type": "code",
     "collapsed": false,
     "input": [
      "start = time.time()\n",
      "x_0, sigma_0 = mc_tools.monteCarloSolve( A_0, f_0, w_c, np_0 )\n",
      "end = time.time()\n",
      "time_0 = end - start\n",
      "\n",
      "start = time.time()\n",
      "x_1, sigma_1 = mc_tools.monteCarloSolve( A_1, f_1, w_c, np_1 )\n",
      "end = time.time()\n",
      "time_1 = end - start\n",
      "time_ml = time_0 + time_1\n",
      "print \"2-level time:\", time_ml\n",
      "\n",
      "x_ml = numpy.zeros(grid_0_size)\n",
      "Px_1 = multilevel_tools.prolongateCC( x_1 )\n",
      "PRx_0 = multilevel_tools.PRCC(x_0)\n",
      "for i in xrange(grid_0_size):\n",
      "    x_ml[i] = Px_1[i] + x_0[i] - PRx_0[i]"
     ],
     "language": "python",
     "metadata": {},
     "outputs": [
      {
       "output_type": "stream",
       "stream": "stdout",
       "text": [
        "2-level time: 11.0688579082\n"
       ]
      }
     ],
     "prompt_number": 94
    },
    {
     "cell_type": "heading",
     "level": 2,
     "metadata": {},
     "source": [
      "Reference Solution"
     ]
    },
    {
     "cell_type": "code",
     "collapsed": false,
     "input": [
      "ref_0 = numpy.linalg.solve(A_0,f_0)"
     ],
     "language": "python",
     "metadata": {},
     "outputs": [],
     "prompt_number": 95
    },
    {
     "cell_type": "heading",
     "level": 2,
     "metadata": {},
     "source": [
      "Analysis"
     ]
    },
    {
     "cell_type": "markdown",
     "metadata": {},
     "source": [
      "Compute the solution residual and error norms"
     ]
    },
    {
     "cell_type": "code",
     "collapsed": false,
     "input": [
      "import array_tools\n",
      "\n",
      "r = array_tools.computeResidual(A_0,x,f_0)\n",
      "r_ml = array_tools.computeResidual(A_0,x_ml,f_0)\n",
      "\n",
      "r_norm = numpy.linalg.norm(r,2)\n",
      "r_norm_ml = numpy.linalg.norm(r_ml,2)\n",
      "\n",
      "error_norm = array_tools.diff2Norm( x, ref_0 )\n",
      "error_norm_ml = array_tools.diff2Norm( x_ml, ref_0 )\n",
      "\n",
      "print \"residual 2-norm:\", r_norm, r_norm_ml\n",
      "print \"error 2-norm:\", error_norm, error_norm_ml"
     ],
     "language": "python",
     "metadata": {},
     "outputs": [
      {
       "output_type": "stream",
       "stream": "stdout",
       "text": [
        "residual 2-norm: 26.4565858128 41.8062677814\n",
        "error 2-norm: 0.276857440306 0.38883997249\n"
       ]
      }
     ],
     "prompt_number": 96
    },
    {
     "cell_type": "markdown",
     "metadata": {},
     "source": [
      "Compute the figures of merit"
     ]
    },
    {
     "cell_type": "code",
     "collapsed": false,
     "input": [
      "rfom = 1.0/(r_norm*r_norm*time_0)\n",
      "rfom_ml = 1.0/(r_norm_ml*r_norm_ml*time_ml)\n",
      "efom = 1.0/(error_norm*error_norm*time_0)\n",
      "efom_ml = 1.0/(error_norm_ml*error_norm_ml*time_ml)\n",
      "\n",
      "print \"RFOM\", rfom, rfom_ml\n",
      "print \"EFOM:\", efom, efom_ml"
     ],
     "language": "python",
     "metadata": {},
     "outputs": [
      {
       "output_type": "stream",
       "stream": "stdout",
       "text": [
        "RFOM 0.000196034361435 5.16909354382e-05\n",
        "EFOM: 1.7901416637 0.597524036308\n"
       ]
      }
     ],
     "prompt_number": 97
    },
    {
     "cell_type": "markdown",
     "metadata": {},
     "source": [
      "Plot the results"
     ]
    },
    {
     "cell_type": "code",
     "collapsed": false,
     "input": [
      "%matplotlib inline\n",
      "import matplotlib.pyplot as plt\n",
      "from pylab import *\n",
      "\n",
      "plot_grid = numpy.linspace(0,grid_0_size,grid_0_size)\n",
      "figure(figsize=(10,8), dpi=100)\n",
      "plot(plot_grid,ref_0,'r',label=\"Ref\")\n",
      "plot(plot_grid,x,'k',label=\"One Level\")\n",
      "plot(plot_grid,x_ml,'b',label=\"Two Level\")\n",
      "title(\"Solution\")\n",
      "legend()\n",
      "show() "
     ],
     "language": "python",
     "metadata": {},
     "outputs": [
      {
       "metadata": {},
       "output_type": "display_data",
       "png": "[encoded data removed]",
       "text": [
        "<matplotlib.figure.Figure at 0x10ac59350>"
       ]
      }
     ],
     "prompt_number": 98
    },
    {
     "cell_type": "markdown",
     "metadata": {},
     "source": [
      "Plot the variance"
     ]
    },
    {
     "cell_type": "code",
     "collapsed": false,
     "input": [
      "figure(figsize=(10,8), dpi=100)\n",
      "plot(plot_grid,sigma,'k',label=\"One Level\")\n",
      "title(\"Variance\")\n",
      "legend()\n",
      "show() "
     ],
     "language": "python",
     "metadata": {},
     "outputs": [
      {
       "metadata": {},
       "output_type": "display_data",
       "png": "[encoded data removed]",
       "text": [
        "<matplotlib.figure.Figure at 0x10ba774d0>"
       ]
      }
     ],
     "prompt_number": 99
    }
   ],
   "metadata": {}
  }
 ]
}