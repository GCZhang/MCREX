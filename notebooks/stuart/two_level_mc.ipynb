{
 "metadata": {
  "name": "",
  "signature": "sha256:83c4d26c908040b012427e19f5ad7688da757e86e2fe6332cb09cb408542102c"
 },
 "nbformat": 3,
 "nbformat_minor": 0,
 "worksheets": [
  {
   "cells": [
    {
     "cell_type": "code",
     "collapsed": false,
     "input": [
      "%load_ext autoreload"
     ],
     "language": "python",
     "metadata": {},
     "outputs": [],
     "prompt_number": 1
    },
    {
     "cell_type": "code",
     "collapsed": false,
     "input": [
      "%autoreload 2"
     ],
     "language": "python",
     "metadata": {},
     "outputs": [],
     "prompt_number": 2
    },
    {
     "cell_type": "heading",
     "level": 1,
     "metadata": {},
     "source": [
      "Two-Level Monte Carlo Scheme"
     ]
    },
    {
     "cell_type": "markdown",
     "metadata": {},
     "source": [
      "This study analyzyes a two-level Monte Carlo scheme applied to a Poisson problem discretized by a cell-centered finite difference scheme."
     ]
    },
    {
     "cell_type": "heading",
     "level": 2,
     "metadata": {},
     "source": [
      "Multilevel Scheme"
     ]
    },
    {
     "cell_type": "markdown",
     "metadata": {},
     "source": [
      "We explore here the basics of the multilevel Monte Carlo scheme when applied to the solution of linear systems. Consider the two level estimator of Giles:\n",
      "\n",
      "\\begin{equation}\n",
      "   E(u) = E(u_1) + E(u_0-u_1)\n",
      "\\end{equation}\n",
      "\n",
      "Where $E(u_1)$ is the estimate on the coarse level and $E(u_0)$ is the estimate on the fine level. One can interpret this as correcting the coarse solution with a difference between the fine and coarse solution. We will then have 2 grids:"
     ]
    },
    {
     "cell_type": "raw",
     "metadata": {},
     "source": [
      "|-------x------|-------x------|-------x------|-------x------|-------x------|-------x------|\n",
      "      u0(0)          u0(1)          u0(2)          u0(3)          u0(4)          u0(5)\n",
      "\n",
      "|--------------x--------------|--------------x--------------|--------------x--------------|\n",
      "             u1(0)                         u1(1)                         u1(2)"
     ]
    },
    {
     "cell_type": "markdown",
     "metadata": {},
     "source": [
      "The key behind constructing the multilevel estimate is that separate sets of random walks are performed, one on fine grid $u0$ and one on coarse grid $u1$. For the random walks on the fine grid, two tallies are performed on both the coarse and fine grids with their difference computed to construct $E(u_0-u_1)$. Let's make the grids/solution vectors:"
     ]
    },
    {
     "cell_type": "code",
     "collapsed": false,
     "input": [
      "import numpy\n",
      "\n",
      "grid_0_size = 100\n",
      "grid_1_size = grid_0_size / 2\n",
      "\n",
      "u_0 = numpy.zeros(grid_0_size)\n",
      "u_1 = numpy.zeros(grid_1_size)"
     ],
     "language": "python",
     "metadata": {},
     "outputs": [],
     "prompt_number": 92
    },
    {
     "cell_type": "heading",
     "level": 2,
     "metadata": {},
     "source": [
      "Model Problem"
     ]
    },
    {
     "cell_type": "markdown",
     "metadata": {},
     "source": [
      "We solve the Poisson problem on one-dimension:\n",
      "\\begin{equation}\n",
      "    \\nabla^2 \\mathbf{u} = \\mathbf{f}\n",
      "\\end{equation}\n",
      "with $\\mathbf{u} \\in \\mathbf{R}^N$ the solution variable and $\\mathbf{f} \\in \\mathbb{R}^N$ the forcing term. We discretize with a cell-centered finite difference:\n",
      "\\begin{equation}\n",
      "    u_{i-1} - 2u_i + u_{i+1} = f_i\n",
      "\\end{equation}\n",
      "The boundary conditions on the left are:\n",
      "\\begin{equation}\n",
      "    u_{-1} - 2u_0 + u_{1} = f_0\n",
      "\\end{equation}\n",
      "On a cell-centered grid we have:"
     ]
    },
    {
     "cell_type": "raw",
     "metadata": {},
     "source": [
      "    |-------x------|-------x------|------x------|\n",
      "u(-1/2)    u(0)          u(1)           u(2)"
     ]
    },
    {
     "cell_type": "markdown",
     "metadata": {},
     "source": [
      "We set $u_{-1/2} = 0$ so that\n",
      "\\begin{equation}\n",
      "-3u_0 + u_1 = f_0\n",
      "\\end{equation}\n",
      "\n",
      "This gives the following linear operator:\n",
      "\\begin{equation}\n",
      "    \\nabla^2 =\n",
      "    \\begin{bmatrix}\n",
      "        -3 & 1 & & & & & \\\\\n",
      "         1 & -2 & 1 & & & & \\\\\n",
      "           & 1 & -2 & 1 & & & \\\\\n",
      "           & & & \\cdots & & & \\\\\n",
      "           & & & & 1 & -2 & 1 \\\\\n",
      "           & & & & & 1 & -3 \\\\\n",
      "    \\end{bmatrix}\n",
      "\\end{equation}\n",
      "\n",
      "We will construct the diagonally-scaled operators on each grid next:"
     ]
    },
    {
     "cell_type": "code",
     "collapsed": false,
     "input": [
      "import mc_data\n",
      "A_0 = mc_data.makePoissonOperator( grid_0_size )\n",
      "A_1 = mc_data.makePoissonOperator( grid_1_size )"
     ],
     "language": "python",
     "metadata": {},
     "outputs": [],
     "prompt_number": 93
    },
    {
     "cell_type": "markdown",
     "metadata": {},
     "source": [
      "Next make a forcing term. Choose a forcing term of unity to make it simple to define on each grid. Note that because we are halving the number of elements in the grid when coarsening the operator must subsequently be scaled by 1.0/h^2 where h is now 2. These means to maintain diagonal scaling we must scale the RHS of grid one by 4."
     ]
    },
    {
     "cell_type": "code",
     "collapsed": false,
     "input": [
      "import multilevel_tools\n",
      "\n",
      "f_0 = numpy.ones( grid_0_size )\n",
      "f_1 = numpy.ones( grid_1_size )\n",
      "for i in xrange(grid_1_size):\n",
      "    f_1[i] = 4.0*f_1[i]"
     ],
     "language": "python",
     "metadata": {},
     "outputs": [],
     "prompt_number": 94
    },
    {
     "cell_type": "markdown",
     "metadata": {},
     "source": [
      "Set the weight cutoff and number of histories to compute on each grid."
     ]
    },
    {
     "cell_type": "code",
     "collapsed": false,
     "input": [
      "w_c = 1.0e-2\n",
      "\n",
      "np_0 = 1000\n",
      "np_1 = 1000"
     ],
     "language": "python",
     "metadata": {},
     "outputs": [],
     "prompt_number": 95
    },
    {
     "cell_type": "markdown",
     "metadata": {},
     "source": [
      "Solve the level problems with Monte Carlo"
     ]
    },
    {
     "cell_type": "code",
     "collapsed": false,
     "input": [
      "import mc_tools\n",
      "\n",
      "x_0 = mc_tools.monteCarloSolve( A_0, f_0, w_c, np_0 )\n",
      "x_1 = mc_tools.monteCarloSolve( A_1, f_1, w_c, np_1 )"
     ],
     "language": "python",
     "metadata": {},
     "outputs": [],
     "prompt_number": 96
    },
    {
     "cell_type": "markdown",
     "metadata": {},
     "source": [
      "Now solve the problem with numpy to get a reference solution"
     ]
    },
    {
     "cell_type": "code",
     "collapsed": false,
     "input": [
      "ref_0 = numpy.linalg.solve(A_0,f_0)\n",
      "ref_1 = numpy.linalg.solve(A_1,f_1)"
     ],
     "language": "python",
     "metadata": {},
     "outputs": [],
     "prompt_number": 97
    },
    {
     "cell_type": "markdown",
     "metadata": {},
     "source": [
      "Now compute the multilevel solution using Giles' estimator"
     ]
    },
    {
     "cell_type": "code",
     "collapsed": false,
     "input": [
      "x_ml = numpy.zeros(grid_0_size)\n",
      "Px_1 = multilevel_tools.prolongateCC( x_1 )\n",
      "PRx_0 = multilevel_tools.PRCC(x_0)\n",
      "for i in xrange(grid_0_size):\n",
      "    x_ml[i] = Px_1[i] + x_0[i] - PRx_0[i]"
     ],
     "language": "python",
     "metadata": {},
     "outputs": [],
     "prompt_number": 98
    },
    {
     "cell_type": "markdown",
     "metadata": {},
     "source": [
      "Compute the solution residuals"
     ]
    },
    {
     "cell_type": "code",
     "collapsed": false,
     "input": [
      "import math\n",
      "\n",
      "Ax_0 = numpy.dot(A_0,x_0)\n",
      "r_0 = numpy.zeros(grid_0_size)\n",
      "for i in xrange(grid_0_size):\n",
      "    r_0[i] = f_0[i] - Ax_0[i]\n",
      "\n",
      "Ax_ml = numpy.dot(A_0,x_ml)\n",
      "r_ml = numpy.zeros(grid_0_size)\n",
      "for i in xrange(grid_0_size):\n",
      "    r_ml[i] = f_0[i] - Ax_ml[i]\n",
      "\n",
      "r_norm = 0.0\n",
      "r_norm_ml = 0.0\n",
      "for i in xrange(grid_0_size):\n",
      "    r_norm = r_norm + r_0[i]*r_0[i]\n",
      "    r_norm_ml = r_norm_ml + r_ml[i]*r_ml[i]\n",
      "r_norm = math.sqrt(r_norm)\n",
      "r_norm_ml = math.sqrt(r_norm_ml)\n",
      "print r_norm, r_norm_ml"
     ],
     "language": "python",
     "metadata": {},
     "outputs": [
      {
       "output_type": "stream",
       "stream": "stdout",
       "text": [
        "78.7524392447 118.841737031\n"
       ]
      }
     ],
     "prompt_number": 99
    },
    {
     "cell_type": "markdown",
     "metadata": {},
     "source": [
      "Plot the results at level 0"
     ]
    },
    {
     "cell_type": "code",
     "collapsed": false,
     "input": [
      "%matplotlib inline\n",
      "import matplotlib.pyplot as plt\n",
      "from pylab import *\n",
      "\n",
      "plot_grid = numpy.linspace(0,grid_0_size,grid_0_size)\n",
      "figure(figsize=(10,8), dpi=100)\n",
      "plot(plot_grid,ref_0,'r',label=\"Ref\")\n",
      "plot(plot_grid,x_0,'k',label=\"One Level\")\n",
      "plot(plot_grid,x_ml,'b',label=\"Two Level\")\n",
      "legend()\n",
      "show() "
     ],
     "language": "python",
     "metadata": {},
     "outputs": [
      {
       "metadata": {},
       "output_type": "display_data",
       "png": "[encoded data removed]",
       "text": [
        "<matplotlib.figure.Figure at 0x10ae5b950>"
       ]
      }
     ],
     "prompt_number": 101
    },
    {
     "cell_type": "code",
     "collapsed": false,
     "input": [],
     "language": "python",
     "metadata": {},
     "outputs": []
    }
   ],
   "metadata": {}
  }
 ]
}