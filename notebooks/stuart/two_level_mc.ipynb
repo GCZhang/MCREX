{
 "metadata": {
  "name": "",
  "signature": "sha256:0a3a58168e5510f042b2d50848769d04909e2bb172b647449c62229ef5dd0b8a"
 },
 "nbformat": 3,
 "nbformat_minor": 0,
 "worksheets": [
  {
   "cells": [
    {
     "cell_type": "heading",
     "level": 1,
     "metadata": {},
     "source": [
      "Two-Level Monte Carlo Scheme"
     ]
    },
    {
     "cell_type": "markdown",
     "metadata": {},
     "source": [
      "This study analyzyes a two-level Monte Carlo scheme applied to a Poisson problem discretized by a cell-centered finite difference scheme."
     ]
    },
    {
     "cell_type": "heading",
     "level": 2,
     "metadata": {},
     "source": [
      "Multilevel Scheme"
     ]
    },
    {
     "cell_type": "markdown",
     "metadata": {},
     "source": [
      "We explore here the basics of the multilevel Monte Carlo scheme when applied to the solution of linear systems. Consider the two level estimator of Giles:\n",
      "\n",
      "\\begin{equation}\n",
      "   E(u) = E(u_1) + E(u_0-u_1)\n",
      "\\end{equation}\n",
      "\n",
      "Where $E(u_1)$ is the estimate on the coarse level and $E(u_0)$ is the estimate on the fine level. One can interpret this as correcting the coarse solution with a difference between the fine and coarse solution. We will then have 2 grids:"
     ]
    },
    {
     "cell_type": "raw",
     "metadata": {},
     "source": [
      "|-------x------|-------x------|-------x------|-------x------|-------x------|-------x------|\n",
      "      u0(0)          u0(1)          u0(2)          u0(3)          u0(4)          u0(5)\n",
      "\n",
      "|--------------x--------------|--------------x--------------|--------------x--------------|\n",
      "             u1(0)                         u1(1)                         u1(2)"
     ]
    },
    {
     "cell_type": "markdown",
     "metadata": {},
     "source": [
      "The key behind constructing the multilevel estimate is that separate sets of random walks are performed, one on fine grid $u0$ and one on coarse grid $u1$. For the random walks on the fine grid, two tallies are performed on both the coarse and fine grids with their difference computed to construct $E(u_0-u_1)$. Let's make the grids/solution vectors:"
     ]
    },
    {
     "cell_type": "code",
     "collapsed": false,
     "input": [
      "import numpy\n",
      "\n",
      "grid_0_size = 100\n",
      "grid_1_size = grid_0_size / 2\n",
      "\n",
      "u_0 = numpy.zeros(grid_0_size)\n",
      "u_1 = numpy.zeros(grid_1_size)"
     ],
     "language": "python",
     "metadata": {},
     "outputs": [],
     "prompt_number": 7
    },
    {
     "cell_type": "heading",
     "level": 2,
     "metadata": {},
     "source": [
      "Model Problem"
     ]
    },
    {
     "cell_type": "markdown",
     "metadata": {},
     "source": [
      "We solve the Poisson problem on one-dimension:\n",
      "\\begin{equation}\n",
      "    \\nabla^2 \\mathbf{u} = \\mathbf{f}\n",
      "\\end{equation}\n",
      "with $\\mathbf{u} \\in \\mathbf{R}^N$ the solution variable and $\\mathbf{f} \\in \\mathbb{R}^N$ the forcing term. We discretize with a cell-centered finite difference:\n",
      "\\begin{equation}\n",
      "    u_{i-1} - 2u_i + u_{i+1} = f_i\n",
      "\\end{equation}\n",
      "The boundary conditions on the left are:\n",
      "\\begin{equation}\n",
      "    u_{-1} - 2u_0 + u_{1} = f_0\n",
      "\\end{equation}\n",
      "On a cell-centered grid we have:"
     ]
    },
    {
     "cell_type": "raw",
     "metadata": {},
     "source": [
      "    |-------x------|-------x------|------x------|\n",
      "u(-1/2)    u(0)          u(1)           u(2)"
     ]
    },
    {
     "cell_type": "markdown",
     "metadata": {},
     "source": [
      "We set $u_{-1/2} = 0$ so that\n",
      "\\begin{equation}\n",
      "-3u_0 + u_1 = f_0\n",
      "\\end{equation}\n",
      "\n",
      "This gives the following linear operator:\n",
      "\\begin{equation}\n",
      "    \\nabla^2 =\n",
      "    \\begin{bmatrix}\n",
      "        -3 & 1 & & & & & \\\\\n",
      "         1 & -2 & 1 & & & & \\\\\n",
      "           & 1 & -2 & 1 & & & \\\\\n",
      "           & & & \\cdots & & & \\\\\n",
      "           & & & & 1 & -2 & 1 \\\\\n",
      "           & & & & & 1 & -3 \\\\\n",
      "    \\end{bmatrix}\n",
      "\\end{equation}\n",
      "\n",
      "We will construct the diagonally-scaled operators on each grid next:"
     ]
    },
    {
     "cell_type": "code",
     "collapsed": false,
     "input": [
      "A_0 = numpy.zeros((grid_0_size,grid_0_size))\n",
      "A_0[0][0] = 1.0\n",
      "A_0[0][1] = -1.0/3.0\n",
      "for i in xrange(1,grid_0_size-1):\n",
      "    A_0[i][i-1] = -1.0/2.0\n",
      "    A_0[i][i] = 1.0\n",
      "    A_0[i][i+1] = -1.0/2.0\n",
      "A_0[grid_0_size-1][grid_0_size-2] = -1.0/3.0\n",
      "A_0[grid_0_size-1][grid_0_size-1] = 1.0\n",
      "\n",
      "A_1 = numpy.zeros((grid_1_size,grid_1_size))\n",
      "A_1[0][0] = 1.0\n",
      "A_1[0][1] = -1.0/3.0\n",
      "for i in xrange(1,grid_1_size-1):\n",
      "    A_1[i][i-1] = -1.0/2.0\n",
      "    A_1[i][i] = 1.0\n",
      "    A_1[i][i+1] = -1.0/2.0\n",
      "A_1[grid_1_size-1][grid_1_size-2] = -1.0/3.0\n",
      "A_1[grid_1_size-1][grid_1_size-1] = 1.0\n"
     ],
     "language": "python",
     "metadata": {},
     "outputs": [],
     "prompt_number": 11
    },
    {
     "cell_type": "markdown",
     "metadata": {},
     "source": [
      "Next make a forcing term. Choose a forcing term of unity to make it simple to define on each grid."
     ]
    },
    {
     "cell_type": "code",
     "collapsed": false,
     "input": [
      "f_0 = numpy.ones(grid_0_size)\n",
      "f_1 = numpy.ones(grid_1_size)"
     ],
     "language": "python",
     "metadata": {},
     "outputs": [],
     "prompt_number": 12
    }
   ],
   "metadata": {}
  }
 ]
}