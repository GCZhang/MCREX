{
 "metadata": {
  "name": "",
  "signature": "sha256:5ef8f91ebdabd4a3b903bc09b0ff3475cf351f49c199d158862a3383ca79a76c"
 },
 "nbformat": 3,
 "nbformat_minor": 0,
 "worksheets": [
  {
   "cells": [
    {
     "cell_type": "heading",
     "level": 1,
     "metadata": {},
     "source": [
      "Minimized Residual Batch Monte Carlo"
     ]
    },
    {
     "cell_type": "code",
     "collapsed": false,
     "input": [
      "import numpy\n",
      "\n",
      "grid_size = 100\n",
      "h = 1.0"
     ],
     "language": "python",
     "metadata": {},
     "outputs": [],
     "prompt_number": 286
    },
    {
     "cell_type": "markdown",
     "metadata": {},
     "source": [
      "Build the linear problem"
     ]
    },
    {
     "cell_type": "code",
     "collapsed": false,
     "input": [
      "import array_tools\n",
      "D = 1.0\n",
      "\n",
      "A = array_tools.makePoissonOperator( grid_size, h, D )\n",
      "diag = array_tools.getInvDiag( A )\n",
      "A = array_tools.leftScaleMatrix( A, diag )\n",
      "\n",
      "f_lo = 50\n",
      "f_hi = 60\n",
      "f = numpy.zeros( grid_size )\n",
      "for i in xrange(grid_size):\n",
      "    if (i > f_lo) and (i < f_hi):\n",
      "        f[i] = f[i] + 10.0\n",
      "f = array_tools.scaleVector( f, diag )"
     ],
     "language": "python",
     "metadata": {},
     "outputs": [],
     "prompt_number": 287
    },
    {
     "cell_type": "markdown",
     "metadata": {},
     "source": [
      "Compute the reference solution"
     ]
    },
    {
     "cell_type": "code",
     "collapsed": false,
     "input": [
      "ref = numpy.linalg.solve(A,f)"
     ],
     "language": "python",
     "metadata": {},
     "outputs": [],
     "prompt_number": 288
    },
    {
     "cell_type": "heading",
     "level": 2,
     "metadata": {},
     "source": [
      "MRB Monte Carlo"
     ]
    },
    {
     "cell_type": "markdown",
     "metadata": {},
     "source": [
      "Solve the batches"
     ]
    },
    {
     "cell_type": "code",
     "collapsed": false,
     "input": [
      "import time\n",
      "import mc_tools\n",
      "\n",
      "w_c = 1.0e-2\n",
      "np = grid_size\n",
      "num_batch = 20\n",
      "np_batch = int(np / num_batch)\n",
      "print \"np_batch:\", np_batch\n",
      "print\n",
      "x_batch = []\n",
      "time_bmr = 0\n",
      "\n",
      "for i in xrange(num_batch):\n",
      "    start = time.time()\n",
      "    x_b, sigma_b = mc_tools.monteCarloSolve( A, f, w_c, np_batch)\n",
      "    x_batch.append(x_b)\n",
      "    end = time.time()\n",
      "    time_bmr = time_bmr + end - start\n",
      "    print \"Batch time (\", i+1, \"/\", num_batch, \"):\", end-start\n",
      "\n",
      "print\n",
      "print \"Total time:\", time_bmr"
     ],
     "language": "python",
     "metadata": {},
     "outputs": [
      {
       "output_type": "stream",
       "stream": "stdout",
       "text": [
        "np_batch: 5\n",
        "\n",
        "Batch time ("
       ]
      },
      {
       "output_type": "stream",
       "stream": "stdout",
       "text": [
        " 1 / 20 ): 0.084135055542\n",
        "Batch time ("
       ]
      },
      {
       "output_type": "stream",
       "stream": "stdout",
       "text": [
        " 2 / 20 ): 0.0842680931091\n",
        "Batch time ("
       ]
      },
      {
       "output_type": "stream",
       "stream": "stdout",
       "text": [
        " 3 / 20 ): 0.0740418434143\n",
        "Batch time ("
       ]
      },
      {
       "output_type": "stream",
       "stream": "stdout",
       "text": [
        " 4 / 20 ): 0.0739538669586\n",
        "Batch time ("
       ]
      },
      {
       "output_type": "stream",
       "stream": "stdout",
       "text": [
        " 5 / 20 ): 0.0746631622314\n",
        "Batch time ("
       ]
      },
      {
       "output_type": "stream",
       "stream": "stdout",
       "text": [
        " 6 / 20 ): 0.074038028717\n",
        "Batch time ("
       ]
      },
      {
       "output_type": "stream",
       "stream": "stdout",
       "text": [
        " 7 / 20 ): 0.0739159584045\n",
        "Batch time ("
       ]
      },
      {
       "output_type": "stream",
       "stream": "stdout",
       "text": [
        " 8 / 20 ): 0.081915140152\n",
        "Batch time ("
       ]
      },
      {
       "output_type": "stream",
       "stream": "stdout",
       "text": [
        " 9 / 20 ): 0.0738890171051\n",
        "Batch time ("
       ]
      },
      {
       "output_type": "stream",
       "stream": "stdout",
       "text": [
        " 10 / 20 ): 0.0755300521851\n",
        "Batch time ("
       ]
      },
      {
       "output_type": "stream",
       "stream": "stdout",
       "text": [
        " 11 / 20 ): 0.0760200023651\n",
        "Batch time ("
       ]
      },
      {
       "output_type": "stream",
       "stream": "stdout",
       "text": [
        " 12 / 20 ): 0.0741090774536\n",
        "Batch time ("
       ]
      },
      {
       "output_type": "stream",
       "stream": "stdout",
       "text": [
        " 13 / 20 ): 0.0762372016907\n",
        "Batch time ("
       ]
      },
      {
       "output_type": "stream",
       "stream": "stdout",
       "text": [
        " 14 / 20 ): 0.0765469074249\n",
        "Batch time ("
       ]
      },
      {
       "output_type": "stream",
       "stream": "stdout",
       "text": [
        " 15 / 20 ): 0.0746941566467\n",
        "Batch time ("
       ]
      },
      {
       "output_type": "stream",
       "stream": "stdout",
       "text": [
        " 16 / 20 ): 0.0743999481201\n",
        "Batch time ("
       ]
      },
      {
       "output_type": "stream",
       "stream": "stdout",
       "text": [
        " 17 / 20 ): 0.0742130279541\n",
        "Batch time ("
       ]
      },
      {
       "output_type": "stream",
       "stream": "stdout",
       "text": [
        " 18 / 20 ): 0.075425863266\n",
        "Batch time ("
       ]
      },
      {
       "output_type": "stream",
       "stream": "stdout",
       "text": [
        " 19 / 20 ): 0.0741109848022\n",
        "Batch time ("
       ]
      },
      {
       "output_type": "stream",
       "stream": "stdout",
       "text": [
        " 20 / 20 ): 0.0748479366302\n",
        "\n",
        "Total time: 1.52095532417\n"
       ]
      }
     ],
     "prompt_number": 289
    },
    {
     "cell_type": "markdown",
     "metadata": {},
     "source": [
      "Solve the linearly constrained least-squares problem using the method of elimination"
     ]
    },
    {
     "cell_type": "code",
     "collapsed": false,
     "input": [
      "start = time.time()\n",
      "\n",
      "# Make the elimination matrix, W, and its transpose\n",
      "W = numpy.zeros( (num_batch,num_batch-1) )\n",
      "W[0][0] = -1\n",
      "for i in xrange(1,num_batch-1):\n",
      "    W[i][i-1] = 1\n",
      "    W[i][i] = -1\n",
      "W[num_batch-1][num_batch-2] = 1\n",
      "\n",
      "W_T = numpy.zeros( (num_batch-1,num_batch))\n",
      "for i in xrange(num_batch-1):\n",
      "    for j in xrange(num_batch):\n",
      "        W_T[i][j] = W[j][i]\n",
      "\n",
      "# Make the least-squares problem operator.\n",
      "V_T = []\n",
      "for i in xrange(num_batch):\n",
      "    Ax_b = numpy.dot(A,x_batch[i])\n",
      "    V_T.append( Ax_b )\n",
      "Z_T = numpy.dot(W_T,V_T)\n",
      "    \n",
      "V = numpy.zeros( (grid_size,num_batch) )\n",
      "for i in xrange(grid_size):\n",
      "    for j in xrange(num_batch):\n",
      "        V[i][j] = V_T[j][i]\n",
      "Z = numpy.dot(V,W)\n",
      "\n",
      "ZTZ = numpy.dot(Z_T,Z)\n",
      "\n",
      "# Make the least-squares problem RHS\n",
      "b = numpy.zeros(grid_size)\n",
      "for i in xrange(grid_size):\n",
      "    b[i] = f[i] - V[i][num_batch-1]\n",
      "\n",
      "ZTb = numpy.dot(Z_T,b)\n",
      "\n",
      "# Solve the least-squares problem and back out the coefficients\n",
      "beta = numpy.linalg.solve(ZTZ,ZTb)\n",
      "alpha = numpy.dot(W,beta)\n",
      "alpha[num_batch-1] = alpha[num_batch-1] + 1\n",
      "\n",
      "# Combine the batch solutions using the least-squares coefficients. Also\n",
      "# compute a result with a uniform set of coefficients to get the result\n",
      "# as if there were no batches.\n",
      "x_bmr = numpy.zeros(grid_size)\n",
      "x_fixed = numpy.zeros(grid_size)\n",
      "for b in xrange(num_batch):\n",
      "    for i in xrange(grid_size):\n",
      "        x_bmr[i] = x_bmr[i] + alpha[b]*x_batch[b][i]\n",
      "        x_fixed[i] = x_fixed[i] + (1.0/num_batch)*x_batch[b][i]\n",
      "    \n",
      "end = time.time()\n",
      "time_bmr + end - start\n",
      "print \"BMR process time:\", end-start"
     ],
     "language": "python",
     "metadata": {},
     "outputs": [
      {
       "output_type": "stream",
       "stream": "stdout",
       "text": [
        "BMR process time: 0.009850025177\n"
       ]
      }
     ],
     "prompt_number": 290
    },
    {
     "cell_type": "heading",
     "level": 2,
     "metadata": {},
     "source": [
      "Analysis"
     ]
    },
    {
     "cell_type": "code",
     "collapsed": false,
     "input": [
      "r_bmr = array_tools.computeResidual(A,x_bmr,f)\n",
      "r_fixed = array_tools.computeResidual(A,x_fixed,f)\n",
      "\n",
      "r_norm_bmr = numpy.linalg.norm(r_bmr,2)\n",
      "r_norm_fixed = numpy.linalg.norm(r_fixed,2)\n",
      "\n",
      "error_bmr = array_tools.relativeDiff(x_bmr,ref)\n",
      "error_fixed = array_tools.relativeDiff(x_fixed,ref)\n",
      "\n",
      "error_norm_bmr = numpy.linalg.norm(error_bmr,2)\n",
      "error_norm_fixed = numpy.linalg.norm(error_fixed,2)\n",
      "\n",
      "print \"residual 2-norm:\", r_norm_bmr, r_norm_fixed\n",
      "print \"error 2-norm:\", error_norm_bmr, error_norm_fixed"
     ],
     "language": "python",
     "metadata": {},
     "outputs": [
      {
       "output_type": "stream",
       "stream": "stdout",
       "text": [
        "residual 2-norm: 0.0781412751191 2.28944678606\n",
        "error 2-norm: 8.87536002447 8.94639041596\n"
       ]
      }
     ],
     "prompt_number": 291
    },
    {
     "cell_type": "code",
     "collapsed": false,
     "input": [
      "%matplotlib inline\n",
      "import matplotlib.pyplot as plt\n",
      "from pylab import *\n",
      "\n",
      "plot_grid = numpy.linspace(0,grid_size,grid_size)\n",
      "figure(figsize=(10,8), dpi=100)\n",
      "plot(plot_grid,ref,'k',label=\"Ref\")\n",
      "plot(plot_grid,x_bmr,'b',label=\"BMR MC\")\n",
      "plot(plot_grid,x_fixed,'r',label=\"Fixed MC\")\n",
      "title(\"Solution\")\n",
      "legend()\n",
      "show() "
     ],
     "language": "python",
     "metadata": {},
     "outputs": [
      {
       "metadata": {},
       "output_type": "display_data",
       "png": "[encoded data removed]",
       "text": [
        "<matplotlib.figure.Figure at 0x10ae56e90>"
       ]
      }
     ],
     "prompt_number": 292
    },
    {
     "cell_type": "code",
     "collapsed": false,
     "input": [
      "figure(figsize=(10,8), dpi=100)\n",
      "plot(plot_grid,r_bmr,'b',label=\"BMR MC\")\n",
      "plot(plot_grid,r_fixed,'r',label=\"Fixed MC\")\n",
      "title(\"Residual\")\n",
      "legend()\n",
      "show() "
     ],
     "language": "python",
     "metadata": {},
     "outputs": [
      {
       "metadata": {},
       "output_type": "display_data",
       "png": "[encoded data removed]",
       "text": [
        "<matplotlib.figure.Figure at 0x107452250>"
       ]
      }
     ],
     "prompt_number": 293
    },
    {
     "cell_type": "code",
     "collapsed": false,
     "input": [
      "figure(figsize=(10,8), dpi=100)\n",
      "plot(plot_grid,error_bmr,'b',label=\"BMR MC\")\n",
      "plot(plot_grid,error_fixed,'r',label=\"Fixed MC\")\n",
      "title(\"Error\")\n",
      "legend()\n",
      "show() "
     ],
     "language": "python",
     "metadata": {},
     "outputs": [
      {
       "metadata": {},
       "output_type": "display_data",
       "png": "[encoded data removed]",
       "text": [
        "<matplotlib.figure.Figure at 0x10aa07910>"
       ]
      }
     ],
     "prompt_number": 294
    }
   ],
   "metadata": {}
  }
 ]
}