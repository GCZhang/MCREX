{
 "metadata": {
  "name": "",
  "signature": "sha256:c6c09dfc9a12851b3965ff3774e414af7a2538e8685a206cdbba43163fdc95f8"
 },
 "nbformat": 3,
 "nbformat_minor": 0,
 "worksheets": [
  {
   "cells": [
    {
     "cell_type": "heading",
     "level": 1,
     "metadata": {},
     "source": [
      "Minimized Residual Batch Monte Carlo"
     ]
    },
    {
     "cell_type": "code",
     "collapsed": false,
     "input": [
      "import numpy\n",
      "\n",
      "grid_size = 100\n",
      "h = 1.0"
     ],
     "language": "python",
     "metadata": {},
     "outputs": [],
     "prompt_number": 130
    },
    {
     "cell_type": "markdown",
     "metadata": {},
     "source": [
      "Build the linear problem"
     ]
    },
    {
     "cell_type": "code",
     "collapsed": false,
     "input": [
      "import array_tools\n",
      "D = 0.0\n",
      "\n",
      "A = array_tools.makePoissonOperator( grid_size, h, D )\n",
      "diag = array_tools.getInvDiag( A )\n",
      "A = array_tools.leftScaleMatrix( A, diag )\n",
      "\n",
      "f = numpy.ones( grid_size )\n",
      "f = array_tools.scaleVector( f, diag )"
     ],
     "language": "python",
     "metadata": {},
     "outputs": [],
     "prompt_number": 131
    },
    {
     "cell_type": "markdown",
     "metadata": {},
     "source": [
      "Compute the reference solution"
     ]
    },
    {
     "cell_type": "code",
     "collapsed": false,
     "input": [
      "ref = numpy.linalg.solve(A,f)"
     ],
     "language": "python",
     "metadata": {},
     "outputs": [],
     "prompt_number": 132
    },
    {
     "cell_type": "heading",
     "level": 2,
     "metadata": {},
     "source": [
      "MBR Monte Carlo"
     ]
    },
    {
     "cell_type": "markdown",
     "metadata": {},
     "source": [
      "Solve the batches"
     ]
    },
    {
     "cell_type": "code",
     "collapsed": false,
     "input": [
      "import time\n",
      "import mc_tools\n",
      "\n",
      "w_c = 1.0e-2\n",
      "np = 1000\n",
      "num_batch = 100\n",
      "np_batch = int(np / num_batch)\n",
      "x_batch = []\n",
      "time_bmr = 0\n",
      "\n",
      "for i in xrange(num_batch):\n",
      "    start = time.time()\n",
      "    x_b, sigma_b = mc_tools.monteCarloSolve( A, f, w_c, np_batch)\n",
      "    x_batch.append(x_b)\n",
      "    end = time.time()\n",
      "    time_bmr = time_bmr + end - start\n",
      "    print \"Batch time (\", i+1, \"/\", num_batch, \"):\", end-start\n",
      "\n",
      "print\n",
      "print \"Total time:\", time_bmr"
     ],
     "language": "python",
     "metadata": {},
     "outputs": [
      {
       "output_type": "stream",
       "stream": "stdout",
       "text": [
        "Batch time ( 1 / 100 ): 1.13094496727\n",
        "Batch time ("
       ]
      },
      {
       "output_type": "stream",
       "stream": "stdout",
       "text": [
        " 2 / 100 ): 0.618281841278\n",
        "Batch time ("
       ]
      },
      {
       "output_type": "stream",
       "stream": "stdout",
       "text": [
        " 3 / 100 ): 0.741008996964\n",
        "Batch time ("
       ]
      },
      {
       "output_type": "stream",
       "stream": "stdout",
       "text": [
        " 4 / 100 ): 1.03063392639\n",
        "Batch time ("
       ]
      },
      {
       "output_type": "stream",
       "stream": "stdout",
       "text": [
        " 5 / 100 ): 0.559586048126\n",
        "Batch time ("
       ]
      },
      {
       "output_type": "stream",
       "stream": "stdout",
       "text": [
        " 6 / 100 ): 0.613202095032\n",
        "Batch time ("
       ]
      },
      {
       "output_type": "stream",
       "stream": "stdout",
       "text": [
        " 7 / 100 ): 0.372983932495\n",
        "Batch time ("
       ]
      },
      {
       "output_type": "stream",
       "stream": "stdout",
       "text": [
        " 8 / 100 ): 0.610977888107\n",
        "Batch time ("
       ]
      },
      {
       "output_type": "stream",
       "stream": "stdout",
       "text": [
        " 9 / 100 ): 0.654009103775\n",
        "Batch time ("
       ]
      },
      {
       "output_type": "stream",
       "stream": "stdout",
       "text": [
        " 10 / 100 ): 0.841140985489\n",
        "Batch time ("
       ]
      },
      {
       "output_type": "stream",
       "stream": "stdout",
       "text": [
        " 11 / 100 ): 0.648967027664\n",
        "Batch time ("
       ]
      },
      {
       "output_type": "stream",
       "stream": "stdout",
       "text": [
        " 12 / 100 ): 0.524544000626\n",
        "Batch time ("
       ]
      },
      {
       "output_type": "stream",
       "stream": "stdout",
       "text": [
        " 13 / 100 ): 0.865813970566\n",
        "Batch time ("
       ]
      },
      {
       "output_type": "stream",
       "stream": "stdout",
       "text": [
        " 14 / 100 ): 0.448333978653\n",
        "Batch time ("
       ]
      },
      {
       "output_type": "stream",
       "stream": "stdout",
       "text": [
        " 15 / 100 ): 0.608375072479\n",
        "Batch time ("
       ]
      },
      {
       "output_type": "stream",
       "stream": "stdout",
       "text": [
        " 16 / 100 ): 0.805047988892\n",
        "Batch time ("
       ]
      },
      {
       "output_type": "stream",
       "stream": "stdout",
       "text": [
        " 17 / 100 ): 0.343770027161\n",
        "Batch time ("
       ]
      },
      {
       "output_type": "stream",
       "stream": "stdout",
       "text": [
        " 18 / 100 ): 0.7163438797\n",
        "Batch time ("
       ]
      },
      {
       "output_type": "stream",
       "stream": "stdout",
       "text": [
        " 19 / 100 ): 0.574849843979\n",
        "Batch time ("
       ]
      },
      {
       "output_type": "stream",
       "stream": "stdout",
       "text": [
        " 20 / 100 ): 0.727509021759\n",
        "Batch time ("
       ]
      },
      {
       "output_type": "stream",
       "stream": "stdout",
       "text": [
        " 21 / 100 ): 0.964711904526\n",
        "Batch time ("
       ]
      },
      {
       "output_type": "stream",
       "stream": "stdout",
       "text": [
        " 22 / 100 ): 0.541455984116\n",
        "Batch time ("
       ]
      },
      {
       "output_type": "stream",
       "stream": "stdout",
       "text": [
        " 23 / 100 ): 0.753897190094\n",
        "Batch time ("
       ]
      },
      {
       "output_type": "stream",
       "stream": "stdout",
       "text": [
        " 24 / 100 ): 0.599755048752\n",
        "Batch time ("
       ]
      },
      {
       "output_type": "stream",
       "stream": "stdout",
       "text": [
        " 25 / 100 ): 0.712146997452\n",
        "Batch time ("
       ]
      },
      {
       "output_type": "stream",
       "stream": "stdout",
       "text": [
        " 26 / 100 ): 0.803296089172\n",
        "Batch time ("
       ]
      },
      {
       "output_type": "stream",
       "stream": "stdout",
       "text": [
        " 27 / 100 ): 1.14759588242\n",
        "Batch time ("
       ]
      },
      {
       "output_type": "stream",
       "stream": "stdout",
       "text": [
        " 28 / 100 ): 0.987540006638\n",
        "Batch time ("
       ]
      },
      {
       "output_type": "stream",
       "stream": "stdout",
       "text": [
        " 29 / 100 ): 0.881263971329\n",
        "Batch time ("
       ]
      },
      {
       "output_type": "stream",
       "stream": "stdout",
       "text": [
        " 30 / 100 ): 0.834455966949\n",
        "Batch time ("
       ]
      },
      {
       "output_type": "stream",
       "stream": "stdout",
       "text": [
        " 31 / 100 ): 0.905082941055\n",
        "Batch time ("
       ]
      },
      {
       "output_type": "stream",
       "stream": "stdout",
       "text": [
        " 32 / 100 ): 1.05044603348\n",
        "Batch time ("
       ]
      },
      {
       "output_type": "stream",
       "stream": "stdout",
       "text": [
        " 33 / 100 ): 0.736812829971\n",
        "Batch time ("
       ]
      },
      {
       "output_type": "stream",
       "stream": "stdout",
       "text": [
        " 34 / 100 ): 0.536334037781\n",
        "Batch time ("
       ]
      },
      {
       "output_type": "stream",
       "stream": "stdout",
       "text": [
        " 35 / 100 ): 0.530444860458\n",
        "Batch time ("
       ]
      },
      {
       "output_type": "stream",
       "stream": "stdout",
       "text": [
        " 36 / 100 ): 0.943635225296\n",
        "Batch time ("
       ]
      },
      {
       "output_type": "stream",
       "stream": "stdout",
       "text": [
        " 37 / 100 ): 0.518887996674\n",
        "Batch time ("
       ]
      },
      {
       "output_type": "stream",
       "stream": "stdout",
       "text": [
        " 38 / 100 ): 0.554059028625\n",
        "Batch time ("
       ]
      },
      {
       "output_type": "stream",
       "stream": "stdout",
       "text": [
        " 39 / 100 ): 0.783379077911\n",
        "Batch time ("
       ]
      },
      {
       "output_type": "stream",
       "stream": "stdout",
       "text": [
        " 40 / 100 ): 0.52139377594\n",
        "Batch time ("
       ]
      },
      {
       "output_type": "stream",
       "stream": "stdout",
       "text": [
        " 41 / 100 ): 0.912736177444\n",
        "Batch time ("
       ]
      },
      {
       "output_type": "stream",
       "stream": "stdout",
       "text": [
        " 42 / 100 ): 0.520335912704\n",
        "Batch time ("
       ]
      },
      {
       "output_type": "stream",
       "stream": "stdout",
       "text": [
        " 43 / 100 ): 0.829425096512\n",
        "Batch time ("
       ]
      },
      {
       "output_type": "stream",
       "stream": "stdout",
       "text": [
        " 44 / 100 ): 1.05997800827\n",
        "Batch time ("
       ]
      },
      {
       "output_type": "stream",
       "stream": "stdout",
       "text": [
        " 45 / 100 ): 0.882601976395\n",
        "Batch time ("
       ]
      },
      {
       "output_type": "stream",
       "stream": "stdout",
       "text": [
        " 46 / 100 ): 1.27959895134\n",
        "Batch time ("
       ]
      },
      {
       "output_type": "stream",
       "stream": "stdout",
       "text": [
        " 47 / 100 ): 0.781013965607\n",
        "Batch time ("
       ]
      },
      {
       "output_type": "stream",
       "stream": "stdout",
       "text": [
        " 48 / 100 ): 0.658364057541\n",
        "Batch time ("
       ]
      },
      {
       "output_type": "stream",
       "stream": "stdout",
       "text": [
        " 49 / 100 ): 1.22712397575\n",
        "Batch time ("
       ]
      },
      {
       "output_type": "stream",
       "stream": "stdout",
       "text": [
        " 50 / 100 ): 0.700599193573\n",
        "Batch time ("
       ]
      },
      {
       "output_type": "stream",
       "stream": "stdout",
       "text": [
        " 51 / 100 ): 0.711997032166\n",
        "Batch time ("
       ]
      },
      {
       "output_type": "stream",
       "stream": "stdout",
       "text": [
        " 52 / 100 ): 0.551717042923\n",
        "Batch time ("
       ]
      },
      {
       "output_type": "stream",
       "stream": "stdout",
       "text": [
        " 53 / 100 ): 0.449880838394\n",
        "Batch time ("
       ]
      },
      {
       "output_type": "stream",
       "stream": "stdout",
       "text": [
        " 54 / 100 ): 0.705995082855\n",
        "Batch time ("
       ]
      },
      {
       "output_type": "stream",
       "stream": "stdout",
       "text": [
        " 55 / 100 ): 0.836791038513\n",
        "Batch time ("
       ]
      },
      {
       "output_type": "stream",
       "stream": "stdout",
       "text": [
        " 56 / 100 ): 0.728322029114\n",
        "Batch time ("
       ]
      },
      {
       "output_type": "stream",
       "stream": "stdout",
       "text": [
        " 57 / 100 ): 1.05457091331\n",
        "Batch time ("
       ]
      },
      {
       "output_type": "stream",
       "stream": "stdout",
       "text": [
        " 58 / 100 ): 0.494252920151\n",
        "Batch time ("
       ]
      },
      {
       "output_type": "stream",
       "stream": "stdout",
       "text": [
        " 59 / 100 ): 0.520910978317\n",
        "Batch time ("
       ]
      },
      {
       "output_type": "stream",
       "stream": "stdout",
       "text": [
        " 60 / 100 ): 0.307171106339\n",
        "Batch time ("
       ]
      },
      {
       "output_type": "stream",
       "stream": "stdout",
       "text": [
        " 61 / 100 ): 0.96297287941\n",
        "Batch time ("
       ]
      },
      {
       "output_type": "stream",
       "stream": "stdout",
       "text": [
        " 62 / 100 ): 0.610556840897\n",
        "Batch time ("
       ]
      },
      {
       "output_type": "stream",
       "stream": "stdout",
       "text": [
        " 63 / 100 ): 1.28924608231\n",
        "Batch time ("
       ]
      },
      {
       "output_type": "stream",
       "stream": "stdout",
       "text": [
        " 64 / 100 ): 0.748289108276\n",
        "Batch time ("
       ]
      },
      {
       "output_type": "stream",
       "stream": "stdout",
       "text": [
        " 65 / 100 ): 1.08646702766\n",
        "Batch time ("
       ]
      },
      {
       "output_type": "stream",
       "stream": "stdout",
       "text": [
        " 66 / 100 ): 0.566118955612\n",
        "Batch time ("
       ]
      },
      {
       "output_type": "stream",
       "stream": "stdout",
       "text": [
        " 67 / 100 ): 0.890996932983\n",
        "Batch time ("
       ]
      },
      {
       "output_type": "stream",
       "stream": "stdout",
       "text": [
        " 68 / 100 ): 0.78086400032\n",
        "Batch time ("
       ]
      },
      {
       "output_type": "stream",
       "stream": "stdout",
       "text": [
        " 69 / 100 ): 0.73647403717\n",
        "Batch time ("
       ]
      },
      {
       "output_type": "stream",
       "stream": "stdout",
       "text": [
        " 70 / 100 ): 1.03588795662\n",
        "Batch time ("
       ]
      },
      {
       "output_type": "stream",
       "stream": "stdout",
       "text": [
        " 71 / 100 ): 0.704373836517\n",
        "Batch time ("
       ]
      },
      {
       "output_type": "stream",
       "stream": "stdout",
       "text": [
        " 72 / 100 ): 0.527890920639\n",
        "Batch time ("
       ]
      },
      {
       "output_type": "stream",
       "stream": "stdout",
       "text": [
        " 73 / 100 ): 0.675654888153\n",
        "Batch time ("
       ]
      },
      {
       "output_type": "stream",
       "stream": "stdout",
       "text": [
        " 74 / 100 ): 0.662089109421\n",
        "Batch time ("
       ]
      },
      {
       "output_type": "stream",
       "stream": "stdout",
       "text": [
        " 75 / 100 ): 0.44318985939\n",
        "Batch time ("
       ]
      },
      {
       "output_type": "stream",
       "stream": "stdout",
       "text": [
        " 76 / 100 ): 1.36079907417\n",
        "Batch time ("
       ]
      },
      {
       "output_type": "stream",
       "stream": "stdout",
       "text": [
        " 77 / 100 ): 0.842314004898\n",
        "Batch time ("
       ]
      },
      {
       "output_type": "stream",
       "stream": "stdout",
       "text": [
        " 78 / 100 ): 0.662527084351\n",
        "Batch time ("
       ]
      },
      {
       "output_type": "stream",
       "stream": "stdout",
       "text": [
        " 79 / 100 ): 0.577574014664\n",
        "Batch time ("
       ]
      },
      {
       "output_type": "stream",
       "stream": "stdout",
       "text": [
        " 80 / 100 ): 0.751733064651\n",
        "Batch time ("
       ]
      },
      {
       "output_type": "stream",
       "stream": "stdout",
       "text": [
        " 81 / 100 ): 0.884531021118\n",
        "Batch time ("
       ]
      },
      {
       "output_type": "stream",
       "stream": "stdout",
       "text": [
        " 82 / 100 ): 0.787043094635\n",
        "Batch time ("
       ]
      },
      {
       "output_type": "stream",
       "stream": "stdout",
       "text": [
        " 83 / 100 ): 0.389798164368\n",
        "Batch time ("
       ]
      },
      {
       "output_type": "stream",
       "stream": "stdout",
       "text": [
        " 84 / 100 ): 0.835156202316\n",
        "Batch time ("
       ]
      },
      {
       "output_type": "stream",
       "stream": "stdout",
       "text": [
        " 85 / 100 ): 0.934024810791\n",
        "Batch time ("
       ]
      },
      {
       "output_type": "stream",
       "stream": "stdout",
       "text": [
        " 86 / 100 ): 0.54345703125\n",
        "Batch time ("
       ]
      },
      {
       "output_type": "stream",
       "stream": "stdout",
       "text": [
        " 87 / 100 ): 0.731257915497\n",
        "Batch time ("
       ]
      },
      {
       "output_type": "stream",
       "stream": "stdout",
       "text": [
        " 88 / 100 ): 0.592795848846\n",
        "Batch time ("
       ]
      },
      {
       "output_type": "stream",
       "stream": "stdout",
       "text": [
        " 89 / 100 ): 0.689523935318\n",
        "Batch time ("
       ]
      },
      {
       "output_type": "stream",
       "stream": "stdout",
       "text": [
        " 90 / 100 ): 0.505239009857\n",
        "Batch time ("
       ]
      },
      {
       "output_type": "stream",
       "stream": "stdout",
       "text": [
        " 91 / 100 ): 0.548470020294\n",
        "Batch time ("
       ]
      },
      {
       "output_type": "stream",
       "stream": "stdout",
       "text": [
        " 92 / 100 ): 0.75404882431\n",
        "Batch time ("
       ]
      },
      {
       "output_type": "stream",
       "stream": "stdout",
       "text": [
        " 93 / 100 ): 0.68791103363\n",
        "Batch time ("
       ]
      },
      {
       "output_type": "stream",
       "stream": "stdout",
       "text": [
        " 94 / 100 ): 0.795763015747\n",
        "Batch time ("
       ]
      },
      {
       "output_type": "stream",
       "stream": "stdout",
       "text": [
        " 95 / 100 ): 0.731546878815\n",
        "Batch time ("
       ]
      },
      {
       "output_type": "stream",
       "stream": "stdout",
       "text": [
        " 96 / 100 ): 0.970638990402\n",
        "Batch time ("
       ]
      },
      {
       "output_type": "stream",
       "stream": "stdout",
       "text": [
        " 97 / 100 ): 0.794867992401\n",
        "Batch time ("
       ]
      },
      {
       "output_type": "stream",
       "stream": "stdout",
       "text": [
        " 98 / 100 ): 0.701326847076\n",
        "Batch time ("
       ]
      },
      {
       "output_type": "stream",
       "stream": "stdout",
       "text": [
        " 99 / 100 ): 0.327471971512\n",
        "Batch time ("
       ]
      },
      {
       "output_type": "stream",
       "stream": "stdout",
       "text": [
        " 100 / 100 ): 0.943290948868\n",
        "\n",
        "Total time: 74.0204889774\n"
       ]
      }
     ],
     "prompt_number": 133
    },
    {
     "cell_type": "markdown",
     "metadata": {},
     "source": [
      "Solve the linearly constrained least-squares problem using the method of elimination"
     ]
    },
    {
     "cell_type": "code",
     "collapsed": false,
     "input": [
      "start = time.time()\n",
      "\n",
      "# Make the elimination matrix, W, and its transpose\n",
      "W = numpy.zeros( (num_batch,num_batch-1) )\n",
      "W[0][0] = -1\n",
      "for i in xrange(1,num_batch-1):\n",
      "    W[i][i-1] = 1\n",
      "    W[i][i] = -1\n",
      "W[num_batch-1][num_batch-2] = 1\n",
      "\n",
      "W_T = numpy.zeros( (num_batch-1,num_batch))\n",
      "for i in xrange(num_batch-1):\n",
      "    for j in xrange(num_batch):\n",
      "        W_T[i][j] = W[j][i]\n",
      "\n",
      "# Make the least-squares problem operator.\n",
      "V_T = []\n",
      "for i in xrange(num_batch):\n",
      "    Ax_b = numpy.dot(A,x_batch[i])\n",
      "    V_T.append( Ax_b )\n",
      "Z_T = numpy.dot(W_T,V_T)\n",
      "    \n",
      "V = numpy.zeros( (grid_size,num_batch) )\n",
      "for i in xrange(grid_size):\n",
      "    for j in xrange(num_batch):\n",
      "        V[i][j] = V_T[j][i]\n",
      "Z = numpy.dot(V,W)\n",
      "\n",
      "ZTZ = numpy.dot(Z_T,Z)\n",
      "\n",
      "# Make the least-squares problem RHS\n",
      "b = numpy.zeros(grid_size)\n",
      "for i in xrange(grid_size):\n",
      "    b[i] = f[i] - V[i][num_batch-1]\n",
      "\n",
      "ZTb = numpy.dot(Z_T,b)\n",
      "\n",
      "# Solve the least-squares problem and back out the coefficients\n",
      "beta = numpy.linalg.solve(ZTZ,ZTb)\n",
      "alpha = numpy.dot(W,beta)\n",
      "alpha[num_batch-1] = alpha[num_batch-1] + 1\n",
      "\n",
      "# Combine the batch solutions using the least-squares coefficients. Also\n",
      "# compute a result with a uniform set of coefficients to get the result\n",
      "# as if there were no batches.\n",
      "x_bmr = numpy.zeros(grid_size)\n",
      "x_fixed = numpy.zeros(grid_size)\n",
      "for b in xrange(num_batch):\n",
      "    for i in xrange(grid_size):\n",
      "        x_bmr[i] = x_bmr[i] + alpha[b]*x_batch[b][i]\n",
      "        x_fixed[i] = x_fixed[i] + (1.0/num_batch)*x_batch[b][i]\n",
      "    \n",
      "end = time.time()\n",
      "time_bmr + end - start\n",
      "print \"BMR process time:\", end-start"
     ],
     "language": "python",
     "metadata": {},
     "outputs": [
      {
       "output_type": "stream",
       "stream": "stdout",
       "text": [
        "BMR process time: 0.0458228588104\n"
       ]
      }
     ],
     "prompt_number": 134
    },
    {
     "cell_type": "heading",
     "level": 2,
     "metadata": {},
     "source": [
      "Analysis"
     ]
    },
    {
     "cell_type": "code",
     "collapsed": false,
     "input": [
      "r_bmr = array_tools.computeResidual(A,x_bmr,f)\n",
      "r_fixed = array_tools.computeResidual(A,x_fixed,f)\n",
      "\n",
      "r_norm_bmr = numpy.linalg.norm(r_bmr,2)\n",
      "r_norm_fixed = numpy.linalg.norm(r_fixed,2)\n",
      "\n",
      "error_bmr = array_tools.relativeDiff(x_bmr,ref)\n",
      "error_fixed = array_tools.relativeDiff(x_fixed,ref)\n",
      "\n",
      "error_norm_bmr = numpy.linalg.norm(error_bmr,2)\n",
      "error_norm_fixed = numpy.linalg.norm(error_fixed,2)\n",
      "\n",
      "print \"residual 2-norm:\", r_norm_bmr, r_norm_fixed\n",
      "print \"error 2-norm:\", error_norm_bmr, error_norm_fixed"
     ],
     "language": "python",
     "metadata": {},
     "outputs": [
      {
       "output_type": "stream",
       "stream": "stdout",
       "text": [
        "residual 2-norm: 0.0366216233941 44.7433414103\n",
        "error 2-norm: 0.0732868724337 0.644608570394\n"
       ]
      }
     ],
     "prompt_number": 135
    },
    {
     "cell_type": "code",
     "collapsed": false,
     "input": [
      "%matplotlib inline\n",
      "import matplotlib.pyplot as plt\n",
      "from pylab import *\n",
      "\n",
      "plot_grid = numpy.linspace(0,grid_size,grid_size)\n",
      "figure(figsize=(10,8), dpi=100)\n",
      "plot(plot_grid,ref,'k',label=\"Ref\")\n",
      "plot(plot_grid,x_bmr,'b',label=\"BMR MC\")\n",
      "plot(plot_grid,x_fixed,'r',label=\"Fixed MC\")\n",
      "title(\"Solution\")\n",
      "legend()\n",
      "show() "
     ],
     "language": "python",
     "metadata": {},
     "outputs": [
      {
       "metadata": {},
       "output_type": "display_data",
       "png": "[encoded data removed]",
       "text": [
        "<matplotlib.figure.Figure at 0x103a004d0>"
       ]
      }
     ],
     "prompt_number": 136
    },
    {
     "cell_type": "code",
     "collapsed": false,
     "input": [
      "figure(figsize=(10,8), dpi=100)\n",
      "plot(plot_grid,r_bmr,'b',label=\"BMR MC\")\n",
      "plot(plot_grid,r_fixed,'r',label=\"Fixed MC\")\n",
      "title(\"Residual\")\n",
      "legend()\n",
      "show() "
     ],
     "language": "python",
     "metadata": {},
     "outputs": [
      {
       "metadata": {},
       "output_type": "display_data",
       "png": "[encoded data removed]",
       "text": [
        "<matplotlib.figure.Figure at 0x103a31090>"
       ]
      }
     ],
     "prompt_number": 137
    },
    {
     "cell_type": "code",
     "collapsed": false,
     "input": [
      "figure(figsize=(10,8), dpi=100)\n",
      "plot(plot_grid,error_bmr,'b',label=\"BMR MC\")\n",
      "plot(plot_grid,error_fixed,'r',label=\"Fixed MC\")\n",
      "title(\"Error\")\n",
      "legend()\n",
      "show() "
     ],
     "language": "python",
     "metadata": {},
     "outputs": [
      {
       "metadata": {},
       "output_type": "display_data",
       "png": "[encoded data removed]",
       "text": [
        "<matplotlib.figure.Figure at 0x103a1d610>"
       ]
      }
     ],
     "prompt_number": 138
    }
   ],
   "metadata": {}
  }
 ]
}