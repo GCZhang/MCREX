{
 "metadata": {
  "name": "",
  "signature": "sha256:16ff965fc26719be2067c3ae7ac2eea3f2ac40df671a7cf6a943c9d804a5fa5a"
 },
 "nbformat": 3,
 "nbformat_minor": 0,
 "worksheets": [
  {
   "cells": [
    {
     "cell_type": "heading",
     "level": 1,
     "metadata": {},
     "source": [
      "Minimized Residual Batch Monte Carlo"
     ]
    },
    {
     "cell_type": "code",
     "collapsed": false,
     "input": [
      "import numpy\n",
      "\n",
      "grid_size = 100\n",
      "h = 1.0"
     ],
     "language": "python",
     "metadata": {},
     "outputs": [],
     "prompt_number": 108
    },
    {
     "cell_type": "code",
     "collapsed": false,
     "input": [
      "import array_tools\n",
      "D = 0.0\n",
      "\n",
      "A = array_tools.makePoissonOperator( grid_size, h, D )\n",
      "diag = array_tools.getInvDiag( A )\n",
      "A = array_tools.leftScaleMatrix( A, diag )\n",
      "\n",
      "f = numpy.ones( grid_size )\n",
      "f = array_tools.scaleVector( f, diag )"
     ],
     "language": "python",
     "metadata": {},
     "outputs": []
    },
    {
     "cell_type": "code",
     "collapsed": false,
     "input": [
      "import time\n",
      "import mc_tools\n",
      "\n",
      "w_c = 1.0e-2\n",
      "np = 1000\n",
      "\n",
      "start = time.time()\n",
      "x, sigma = mc_tools.monteCarloSolve( A, f, w_c, np)\n",
      "end = time.time()\n",
      "time_0 = end - start\n",
      "print \"Solve time:\", time_0"
     ],
     "language": "python",
     "metadata": {},
     "outputs": []
    },
    {
     "cell_type": "code",
     "collapsed": false,
     "input": [
      "num_batch = 2\n",
      "np_batch = 500\n",
      "\n",
      "start = time.time()\n",
      "x_1, sigma_1 = mc_tools.monteCarloSolve( A, f, w_c, np_batch)\n",
      "end = time.time()\n",
      "time_1 = end - start\n",
      "print \"Batch time:\", time_1\n",
      "\n",
      "start = time.time()\n",
      "x_2, sigma_2 = mc_tools.monteCarloSolve( A, f, w_c, np_batch)\n",
      "end = time.time()\n",
      "time_2 = end - start\n",
      "print \"Batch time:\", time_2"
     ],
     "language": "python",
     "metadata": {},
     "outputs": []
    },
    {
     "cell_type": "code",
     "collapsed": false,
     "input": [
      "start = time.time()\n",
      "\n",
      "Ax_1 = numpy.dot(A,x_1)\n",
      "Ax_2 = numpy.dot(A,x_2)\n",
      "\n",
      "V = numpy.zeros( (grid_size,num_batch))\n",
      "V_T = numpy.zeros( (num_batch,grid_size))\n",
      "for i in xrange(grid_size):\n",
      "    V[i][0] = Ax_1[i]\n",
      "    V[i][1] = Ax_2[i]\n",
      "    V_T[0][i] = Ax_1[i]\n",
      "    V_T[1][i] = Ax_2[i]\n",
      "    \n",
      "VTV = numpy.dot(V_T,V)\n",
      "VTf = numpy.dot(V_T,f)\n",
      "\n",
      "alpha = numpy.linalg.solve(VTV,VTf)\n",
      "print \"alpha:\",alpha\n",
      "\n",
      "x_bmr = numpy.zeros(grid_size)\n",
      "for i in xrange(grid_size):\n",
      "    x_bmr[i] = alpha[0]*x_1[i] + alpha[1]*x_2[i]\n",
      "    \n",
      "end = time.time()\n",
      "print \"BMR process time:\", end-start"
     ],
     "language": "python",
     "metadata": {},
     "outputs": []
    },
    {
     "cell_type": "code",
     "collapsed": false,
     "input": [
      "ref = numpy.linalg.solve(A,f)"
     ],
     "language": "python",
     "metadata": {},
     "outputs": []
    },
    {
     "cell_type": "code",
     "collapsed": false,
     "input": [
      "r = array_tools.computeResidual(A,x,f)\n",
      "r_bmr = array_tools.computeResidual(A,x_bmr,f)\n",
      "\n",
      "r_norm = numpy.linalg.norm(r,2)\n",
      "r_norm_bmr = numpy.linalg.norm(r_bmr,2)\n",
      "\n",
      "error = array_tools.relativeDiff(x,ref)\n",
      "error_bmr = array_tools.relativeDiff(x_bmr,ref)\n",
      "\n",
      "error_norm = numpy.linalg.norm(error,2)\n",
      "error_norm_bmr = numpy.linalg.norm(error_bmr,2)\n",
      "\n",
      "print \"residual 2-norm:\", r_norm, r_norm_bmr\n",
      "print \"error 2-norm:\", error_norm, error_norm_bmr"
     ],
     "language": "python",
     "metadata": {},
     "outputs": []
    },
    {
     "cell_type": "code",
     "collapsed": false,
     "input": [
      "%matplotlib inline\n",
      "import matplotlib.pyplot as plt\n",
      "from pylab import *\n",
      "\n",
      "plot_grid = numpy.linspace(0,grid_size,grid_size)\n",
      "figure(figsize=(10,8), dpi=100)\n",
      "plot(plot_grid,ref,'r',label=\"Ref\")\n",
      "plot(plot_grid,x,'k',label=\"Standard MC\")\n",
      "plot(plot_grid,x_bmr,'b',label=\"BMR MC\")\n",
      "title(\"Solution\")\n",
      "legend()\n",
      "show() "
     ],
     "language": "python",
     "metadata": {},
     "outputs": []
    },
    {
     "cell_type": "code",
     "collapsed": false,
     "input": [
      "figure(figsize=(10,8), dpi=100)\n",
      "plot(plot_grid,r,'r',label=\"Standard MC\")\n",
      "plot(plot_grid,r_bmr,'b',label=\"BMR MC\")\n",
      "title(\"Residual\")\n",
      "legend()\n",
      "show() "
     ],
     "language": "python",
     "metadata": {},
     "outputs": []
    },
    {
     "cell_type": "code",
     "collapsed": false,
     "input": [
      "figure(figsize=(10,8), dpi=100)\n",
      "plot(plot_grid,error,'r',label=\"Standard MC\")\n",
      "plot(plot_grid,error_bmr,'b',label=\"BMR MC\")\n",
      "title(\"Error\")\n",
      "legend()\n",
      "show() "
     ],
     "language": "python",
     "metadata": {},
     "outputs": []
    }
   ],
   "metadata": {}
  }
 ]
}