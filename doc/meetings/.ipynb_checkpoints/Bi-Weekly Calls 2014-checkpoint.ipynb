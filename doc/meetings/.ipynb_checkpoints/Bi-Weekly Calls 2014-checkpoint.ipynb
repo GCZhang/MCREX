{
 "metadata": {
  "name": "",
  "signature": "sha256:c4417151cc666d6be202317cf0047110388c8ab0dd21011cdbbf946d4e71cd89"
 },
 "nbformat": 3,
 "nbformat_minor": 0,
 "worksheets": [
  {
   "cells": [
    {
     "cell_type": "heading",
     "level": 1,
     "metadata": {},
     "source": [
      "Wednesday, May 7, 2014"
     ]
    },
    {
     "cell_type": "markdown",
     "metadata": {},
     "source": [
      "Steven Hamilton\n",
      "---------------\n",
      "  * GMRES preconditioners revisited\n",
      "  * Originally thought incompatible due to dependence on right-hand side\n",
      "  * Use of random initial vector (Joubert paper) makes this tractable\n",
      "  * Technical note forthcoming\n",
      "  \n",
      "Michele and Max\n",
      "---------------\n",
      "  * Algebraic preconditioners for H matrices\n",
      "  * Block triangular preconditioner for finite Neumann series\n",
      "  * Examples:\n",
      "    * Laplace equation on $64\\times 64$ ($8\\times 8$ mesh)\n",
      "    * Jacobi preconditioning ($\\rho = 0.98$)\n",
      "      * $10^5$ random walks (adjoint)\n",
      "      * $6400$ random walks (direct) (100 per component)\n",
      "      * direct result converged to $10^{-4}$\n",
      "      * adjoint result converged to 0.03\n",
      "    * Red-black Gauss-Seidel\n",
      "      * direct 9 seconds ($10^{-4}$)\n",
      "      * adjoint 50 seconds (0.08)\n",
      "    * Block-triangular preconditioner\n",
      "      * direct method ($10^{-16}$ 0.7 seconds)\n",
      "      * adjoint method ($0.09$ 39 seconds)\n",
      "  * June 6 - July 24 Michele out of town\n",
      "  * send instructions for github\n",
      "  * send instructions for Google video hangout"
     ]
    },
    {
     "cell_type": "heading",
     "level": 1,
     "metadata": {},
     "source": [
      "Wednesday, May 21, 2014"
     ]
    },
    {
     "cell_type": "markdown",
     "metadata": {},
     "source": [
      "Visit\n",
      "-----\n",
      "  * June-23 to June-28\n",
      "\n",
      "Polynomial Discussion\n",
      "---------------------\n",
      "  * results using Hessenberg matrix need explaining\n",
      "  \n",
      "Max's Results\n",
      "-------------\n",
      "  * Max is doing sequential Monte Carlo\n",
      "  * Recommend looking at direct/adjoint regular Monte Carlo"
     ]
    },
    {
     "cell_type": "heading",
     "level": 1,
     "metadata": {},
     "source": [
      "Thursday, June 5, 2014"
     ]
    },
    {
     "cell_type": "markdown",
     "metadata": {},
     "source": [
      "Review of Max's Report\n",
      "----------------------\n",
      "  * looks like a plot error for Figure 2.3\n",
      "  * Fig 2.2 component curves seem have some odd slopes"
     ]
    }
   ],
   "metadata": {}
  }
 ]
}