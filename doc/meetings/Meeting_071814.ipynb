{
 "metadata": {
  "name": "",
  "signature": "sha256:fd760206f0da081670c1a7f5f3d24588649b99a2b3625bf0e5452571f1b845bc"
 },
 "nbformat": 3,
 "nbformat_minor": 0,
 "worksheets": [
  {
   "cells": [
    {
     "cell_type": "markdown",
     "metadata": {},
     "source": [
      "Planned MCREX Papers\n",
      "--------------------\n",
      "\n",
      "* Stuart's TTSP paper, in PTS by Sept. 1\n",
      "* Steven's polynomial Monte Carlo paper (SISC?), in PTS by end of FY\n",
      "* Hybrid parallelism\n",
      "\n",
      "\n",
      "Near Term Development\n",
      "---------------------\n",
      "\n",
      "* Hook MCLS up to Profugus\n",
      "* Add Steven's Kokkos MC Kernels to Profugus (use with MCLS)\n",
      "* Get Profugus to Christian (wait for export control?)\n",
      "* Establish accounts on NERSC (through XPRESS) and Titan (director's discretion)\n",
      "* Polynomial MC kernel with XPRESS\n"
     ]
    },
    {
     "cell_type": "code",
     "collapsed": false,
     "input": [],
     "language": "python",
     "metadata": {},
     "outputs": [],
     "prompt_number": 0
    },
    {
     "cell_type": "code",
     "collapsed": false,
     "input": [],
     "language": "python",
     "metadata": {},
     "outputs": []
    }
   ],
   "metadata": {}
  }
 ]
}